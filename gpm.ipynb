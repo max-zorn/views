{
 "cells": [
  {
   "cell_type": "code",
   "execution_count": 1,
   "metadata": {
    "collapsed": true
   },
   "outputs": [],
   "source": [
    "import os\n",
    "from datetime import timedelta\n",
    "\n",
    "import pandas as pd\n",
    "from dotenv import load_dotenv\n",
    "from sqlalchemy import create_engine\n",
    "from tqdm.auto import tqdm\n",
    "\n",
    "tqdm.pandas()"
   ]
  },
  {
   "cell_type": "code",
   "execution_count": 2,
   "outputs": [
    {
     "data": {
      "text/plain": "True"
     },
     "execution_count": 2,
     "metadata": {},
     "output_type": "execute_result"
    }
   ],
   "source": [
    "load_dotenv()"
   ],
   "metadata": {
    "collapsed": false
   }
  },
  {
   "cell_type": "code",
   "execution_count": 3,
   "outputs": [],
   "source": [
    "path = 'premalt_636_result_temp.xlsx'"
   ],
   "metadata": {
    "collapsed": false
   }
  },
  {
   "cell_type": "code",
   "execution_count": 4,
   "outputs": [
    {
     "name": "stdout",
     "output_type": "stream",
     "text": [
      "CPU times: user 12.3 s, sys: 177 ms, total: 12.5 s\n",
      "Wall time: 14.3 s\n"
     ]
    }
   ],
   "source": [
    "%%time\n",
    "# Загрузка файлов\n",
    "\n",
    "df = pd.read_excel(io=path)"
   ],
   "metadata": {
    "collapsed": false
   }
  },
  {
   "cell_type": "code",
   "execution_count": 5,
   "outputs": [
    {
     "data": {
      "text/plain": "              passport_id  tv_id         title_ru  season_num  episode_num  \\\n0   1CWK664S87arvh5ER6qrL   4080            ольга           5            8   \n1   1CWK664S87arvh5ER6qrL   4080            ольга           5            0   \n2   1CWK664S87arvh5ER6qrL  13625  училки в законе           2           18   \n3   1CWK664S87arvh5ER6qrL  13625  училки в законе           2           17   \n4   1GHKRRjyJnYgRg9ECHT5L  14892          невский           6           11   \n5   1GHKRRjyJnYgRg9ECHT5L  14892          невский           6           12   \n6   1GHKRRjyJnYgRg9ECHT5L  14892          невский           6           10   \n7   1pXh82iKpkSHAqenDBxpT   4080            ольга           5            8   \n8  131JqdtikiJcDH8Ywb9idv   4080            ольга           5           13   \n9  21LoobBEtWWyENFPHRGwYq  20584         нюрнберг           0            0   \n\n   subscription_flg            ts_start  view_durations_m  video_durations_m  \\\n0                 1 2023-04-20 11:25:35           45036.0            45006.0   \n1                 1 2023-04-20 11:25:26               0.0                0.6   \n2                 1 2023-04-20 09:53:37           45097.0            45038.0   \n3                 1 2023-04-20 09:53:28               0.1            45039.0   \n4                 1 2023-04-20 21:22:07              46.7               48.6   \n5                 1 2023-04-20 22:09:42           45164.0               48.0   \n6                 1 2023-04-20 20:24:36              48.9               50.9   \n7                 1 2023-04-20 08:32:33           45189.0            45006.0   \n8                 1 2023-04-28 21:23:51               0.0               23.0   \n9                 1 2023-04-20 18:56:01              32.3              124.9   \n\n  content_type subscription_kind   view_type  \\\n0       series               sub     app-ios   \n1       series               sub     app-ios   \n2       series               sub     app-ios   \n3       series               sub     app-ios   \n4       series               sub      web-pc   \n5       series               sub      web-pc   \n6       series               sub      web-pc   \n7       series               sub      web-pc   \n8       series      sub_discount  web-mobile   \n9        movie               sub  web-mobile   \n\n                       uma_video_id  \\\n0  e5a5f6430282ce3464b838601ea1fb89   \n1  5820d44844aa3748baddf39fcd6374f9   \n2  64adf8242ea5d5dfd6149180d487bcf6   \n3  79fa8e090ad287a5ba77a7e497dedd18   \n4  26ea0d39a01c5025a2a23792a783665c   \n5  2ba0150f51f9a1883095a49e79b9f67b   \n6  9e704273c3c292ec6c6380e081376ab1   \n7  e5a5f6430282ce3464b838601ea1fb89   \n8  e7936c716300762a3514143238cf9610   \n9  0222df22348f7d339591c7b0448285c9   \n\n                                       genre_names genre_main  \\\n0                                        'Комедия'    Комедия   \n1                                        'Комедия'    Комедия   \n2                                        'Комедия'    Комедия   \n3                                        'Комедия'    Комедия   \n4           [''Боевик'',''Детектив'',''Криминал'']   Детектив   \n5           [''Боевик'',''Детектив'',''Криминал'']   Детектив   \n6           [''Боевик'',''Детектив'',''Криминал'']   Детектив   \n7                                        'Комедия'    Комедия   \n8                                        'Комедия'    Комедия   \n9  [''Военный'',''Драма'',''История'',''Триллер'']      Драма   \n\n             director  kp_rating   registration_date last_payed_sub_start_ts  \\\n0       Игорь Волошин      6.489 2018-08-27 17:53:04     2023-10-02 11:38:46   \n1       Игорь Волошин      6.489 2018-08-27 17:53:04     2023-10-02 11:38:46   \n2  Константин Колесов      6.618 2018-08-27 17:53:04     2023-10-02 11:38:46   \n3  Константин Колесов      6.618 2018-08-27 17:53:04     2023-10-02 11:38:46   \n4    Андрей Коршунов      7.937 2022-04-19 19:25:45     2023-05-25 22:00:27   \n5    Андрей Коршунов      7.937 2022-04-19 19:25:45     2023-05-25 22:00:27   \n6    Андрей Коршунов      7.937 2022-04-19 19:25:45     2023-05-25 22:00:27   \n7       Игорь Волошин      6.489 2019-10-14 23:50:16     2023-10-18 11:11:14   \n8       Игорь Волошин      6.489 2021-01-06 05:58:49     1970-01-01 03:00:00   \n9     Николай Лебедев      6.007 2020-09-03 20:11:28     2023-10-10 16:31:10   \n\n  premiere_dt  \n0  2023-04-10  \n1  2023-04-10  \n2  2021-10-14  \n3  2021-10-14  \n4  2023-04-10  \n5  2023-04-10  \n6  2023-04-10  \n7  2023-04-10  \n8  2023-04-10  \n9  2023-04-20  ",
      "text/html": "<div>\n<style scoped>\n    .dataframe tbody tr th:only-of-type {\n        vertical-align: middle;\n    }\n\n    .dataframe tbody tr th {\n        vertical-align: top;\n    }\n\n    .dataframe thead th {\n        text-align: right;\n    }\n</style>\n<table border=\"1\" class=\"dataframe\">\n  <thead>\n    <tr style=\"text-align: right;\">\n      <th></th>\n      <th>passport_id</th>\n      <th>tv_id</th>\n      <th>title_ru</th>\n      <th>season_num</th>\n      <th>episode_num</th>\n      <th>subscription_flg</th>\n      <th>ts_start</th>\n      <th>view_durations_m</th>\n      <th>video_durations_m</th>\n      <th>content_type</th>\n      <th>subscription_kind</th>\n      <th>view_type</th>\n      <th>uma_video_id</th>\n      <th>genre_names</th>\n      <th>genre_main</th>\n      <th>director</th>\n      <th>kp_rating</th>\n      <th>registration_date</th>\n      <th>last_payed_sub_start_ts</th>\n      <th>premiere_dt</th>\n    </tr>\n  </thead>\n  <tbody>\n    <tr>\n      <th>0</th>\n      <td>1CWK664S87arvh5ER6qrL</td>\n      <td>4080</td>\n      <td>ольга</td>\n      <td>5</td>\n      <td>8</td>\n      <td>1</td>\n      <td>2023-04-20 11:25:35</td>\n      <td>45036.0</td>\n      <td>45006.0</td>\n      <td>series</td>\n      <td>sub</td>\n      <td>app-ios</td>\n      <td>e5a5f6430282ce3464b838601ea1fb89</td>\n      <td>'Комедия'</td>\n      <td>Комедия</td>\n      <td>Игорь Волошин</td>\n      <td>6.489</td>\n      <td>2018-08-27 17:53:04</td>\n      <td>2023-10-02 11:38:46</td>\n      <td>2023-04-10</td>\n    </tr>\n    <tr>\n      <th>1</th>\n      <td>1CWK664S87arvh5ER6qrL</td>\n      <td>4080</td>\n      <td>ольга</td>\n      <td>5</td>\n      <td>0</td>\n      <td>1</td>\n      <td>2023-04-20 11:25:26</td>\n      <td>0.0</td>\n      <td>0.6</td>\n      <td>series</td>\n      <td>sub</td>\n      <td>app-ios</td>\n      <td>5820d44844aa3748baddf39fcd6374f9</td>\n      <td>'Комедия'</td>\n      <td>Комедия</td>\n      <td>Игорь Волошин</td>\n      <td>6.489</td>\n      <td>2018-08-27 17:53:04</td>\n      <td>2023-10-02 11:38:46</td>\n      <td>2023-04-10</td>\n    </tr>\n    <tr>\n      <th>2</th>\n      <td>1CWK664S87arvh5ER6qrL</td>\n      <td>13625</td>\n      <td>училки в законе</td>\n      <td>2</td>\n      <td>18</td>\n      <td>1</td>\n      <td>2023-04-20 09:53:37</td>\n      <td>45097.0</td>\n      <td>45038.0</td>\n      <td>series</td>\n      <td>sub</td>\n      <td>app-ios</td>\n      <td>64adf8242ea5d5dfd6149180d487bcf6</td>\n      <td>'Комедия'</td>\n      <td>Комедия</td>\n      <td>Константин Колесов</td>\n      <td>6.618</td>\n      <td>2018-08-27 17:53:04</td>\n      <td>2023-10-02 11:38:46</td>\n      <td>2021-10-14</td>\n    </tr>\n    <tr>\n      <th>3</th>\n      <td>1CWK664S87arvh5ER6qrL</td>\n      <td>13625</td>\n      <td>училки в законе</td>\n      <td>2</td>\n      <td>17</td>\n      <td>1</td>\n      <td>2023-04-20 09:53:28</td>\n      <td>0.1</td>\n      <td>45039.0</td>\n      <td>series</td>\n      <td>sub</td>\n      <td>app-ios</td>\n      <td>79fa8e090ad287a5ba77a7e497dedd18</td>\n      <td>'Комедия'</td>\n      <td>Комедия</td>\n      <td>Константин Колесов</td>\n      <td>6.618</td>\n      <td>2018-08-27 17:53:04</td>\n      <td>2023-10-02 11:38:46</td>\n      <td>2021-10-14</td>\n    </tr>\n    <tr>\n      <th>4</th>\n      <td>1GHKRRjyJnYgRg9ECHT5L</td>\n      <td>14892</td>\n      <td>невский</td>\n      <td>6</td>\n      <td>11</td>\n      <td>1</td>\n      <td>2023-04-20 21:22:07</td>\n      <td>46.7</td>\n      <td>48.6</td>\n      <td>series</td>\n      <td>sub</td>\n      <td>web-pc</td>\n      <td>26ea0d39a01c5025a2a23792a783665c</td>\n      <td>[''Боевик'',''Детектив'',''Криминал'']</td>\n      <td>Детектив</td>\n      <td>Андрей Коршунов</td>\n      <td>7.937</td>\n      <td>2022-04-19 19:25:45</td>\n      <td>2023-05-25 22:00:27</td>\n      <td>2023-04-10</td>\n    </tr>\n    <tr>\n      <th>5</th>\n      <td>1GHKRRjyJnYgRg9ECHT5L</td>\n      <td>14892</td>\n      <td>невский</td>\n      <td>6</td>\n      <td>12</td>\n      <td>1</td>\n      <td>2023-04-20 22:09:42</td>\n      <td>45164.0</td>\n      <td>48.0</td>\n      <td>series</td>\n      <td>sub</td>\n      <td>web-pc</td>\n      <td>2ba0150f51f9a1883095a49e79b9f67b</td>\n      <td>[''Боевик'',''Детектив'',''Криминал'']</td>\n      <td>Детектив</td>\n      <td>Андрей Коршунов</td>\n      <td>7.937</td>\n      <td>2022-04-19 19:25:45</td>\n      <td>2023-05-25 22:00:27</td>\n      <td>2023-04-10</td>\n    </tr>\n    <tr>\n      <th>6</th>\n      <td>1GHKRRjyJnYgRg9ECHT5L</td>\n      <td>14892</td>\n      <td>невский</td>\n      <td>6</td>\n      <td>10</td>\n      <td>1</td>\n      <td>2023-04-20 20:24:36</td>\n      <td>48.9</td>\n      <td>50.9</td>\n      <td>series</td>\n      <td>sub</td>\n      <td>web-pc</td>\n      <td>9e704273c3c292ec6c6380e081376ab1</td>\n      <td>[''Боевик'',''Детектив'',''Криминал'']</td>\n      <td>Детектив</td>\n      <td>Андрей Коршунов</td>\n      <td>7.937</td>\n      <td>2022-04-19 19:25:45</td>\n      <td>2023-05-25 22:00:27</td>\n      <td>2023-04-10</td>\n    </tr>\n    <tr>\n      <th>7</th>\n      <td>1pXh82iKpkSHAqenDBxpT</td>\n      <td>4080</td>\n      <td>ольга</td>\n      <td>5</td>\n      <td>8</td>\n      <td>1</td>\n      <td>2023-04-20 08:32:33</td>\n      <td>45189.0</td>\n      <td>45006.0</td>\n      <td>series</td>\n      <td>sub</td>\n      <td>web-pc</td>\n      <td>e5a5f6430282ce3464b838601ea1fb89</td>\n      <td>'Комедия'</td>\n      <td>Комедия</td>\n      <td>Игорь Волошин</td>\n      <td>6.489</td>\n      <td>2019-10-14 23:50:16</td>\n      <td>2023-10-18 11:11:14</td>\n      <td>2023-04-10</td>\n    </tr>\n    <tr>\n      <th>8</th>\n      <td>131JqdtikiJcDH8Ywb9idv</td>\n      <td>4080</td>\n      <td>ольга</td>\n      <td>5</td>\n      <td>13</td>\n      <td>1</td>\n      <td>2023-04-28 21:23:51</td>\n      <td>0.0</td>\n      <td>23.0</td>\n      <td>series</td>\n      <td>sub_discount</td>\n      <td>web-mobile</td>\n      <td>e7936c716300762a3514143238cf9610</td>\n      <td>'Комедия'</td>\n      <td>Комедия</td>\n      <td>Игорь Волошин</td>\n      <td>6.489</td>\n      <td>2021-01-06 05:58:49</td>\n      <td>1970-01-01 03:00:00</td>\n      <td>2023-04-10</td>\n    </tr>\n    <tr>\n      <th>9</th>\n      <td>21LoobBEtWWyENFPHRGwYq</td>\n      <td>20584</td>\n      <td>нюрнберг</td>\n      <td>0</td>\n      <td>0</td>\n      <td>1</td>\n      <td>2023-04-20 18:56:01</td>\n      <td>32.3</td>\n      <td>124.9</td>\n      <td>movie</td>\n      <td>sub</td>\n      <td>web-mobile</td>\n      <td>0222df22348f7d339591c7b0448285c9</td>\n      <td>[''Военный'',''Драма'',''История'',''Триллер'']</td>\n      <td>Драма</td>\n      <td>Николай Лебедев</td>\n      <td>6.007</td>\n      <td>2020-09-03 20:11:28</td>\n      <td>2023-10-10 16:31:10</td>\n      <td>2023-04-20</td>\n    </tr>\n  </tbody>\n</table>\n</div>"
     },
     "execution_count": 5,
     "metadata": {},
     "output_type": "execute_result"
    }
   ],
   "source": [
    "df.head(10)"
   ],
   "metadata": {
    "collapsed": false
   }
  },
  {
   "cell_type": "code",
   "execution_count": 6,
   "outputs": [
    {
     "data": {
      "text/plain": "                  passport_id  tv_id               title_ru  season_num  \\\n126259  mt11K58BEqdTsQySnJgkY   8399                   тнт4           0   \n126260  pBdwsJvxoUUWdootvD13B   8754                   жуки           2   \n126261  pBdwsJvxoUUWdootvD13B   8754                   жуки           2   \n126262  pBdwsJvxoUUWdootvD13B   8754                   жуки           1   \n126263  pBdwsJvxoUUWdootvD13B   8754                   жуки           2   \n126264  ruHQrC7k7NvNQPrN15zyo  14892                невский           6   \n126265  ruHQrC7k7NvNQPrN15zyo  14892                невский           6   \n126266  upeT6waJujBnDrhmoiTYE  15223   музыкальная интуиция           3   \n126267  uvQW7QMEwjoqzHikUwytE  11033  рыцарь нашего времени           1   \n126268  uvQW7QMEwjoqzHikUwytE  11033  рыцарь нашего времени           1   \n\n        episode_num  subscription_flg            ts_start  view_durations_m  \\\n126259            0                 1 2023-04-18 14:28:13               0.0   \n126260            5                 1 2023-04-18 18:22:16              23.0   \n126261            4                 1 2023-04-18 17:59:35           45038.0   \n126262           17                 1 2023-04-18 17:37:30               0.0   \n126263            3                 1 2023-04-18 17:37:42           45032.0   \n126264           12                 1 2023-04-18 22:49:32              45.3   \n126265           11                 1 2023-04-18 20:50:36              47.2   \n126266            4                 1 2023-04-18 17:53:47              69.3   \n126267            3                 1 2023-04-18 14:28:24               0.0   \n126268            4                 1 2023-04-18 14:28:28           45166.0   \n\n        video_durations_m content_type subscription_kind      view_type  \\\n126259                0.0    broadcast               sub         web-pc   \n126260            45161.0       series               sub  app-androidtv   \n126261            44980.0       series               sub  app-androidtv   \n126262               23.0       series               sub  app-androidtv   \n126263            45009.0       series               sub  app-androidtv   \n126264               48.0       series               sub         app-lg   \n126265               48.6       series               sub         app-lg   \n126266               89.1         show             trial     web-mobile   \n126267               47.8       series               sub         web-pc   \n126268               45.2       series               sub         web-pc   \n\n                            uma_video_id  \\\n126259  b0200b6f7a08fb0aad4e1289f491d1ea   \n126260  3d5ad23592e66a8f6509c3ed534e4e7f   \n126261  1ccb01bc0bcaad9c3ce215de330818f3   \n126262  6f58b809b18f14b14702c55f91ab5f68   \n126263  104ed79f6bf2438479added32305c0dd   \n126264  2ba0150f51f9a1883095a49e79b9f67b   \n126265  26ea0d39a01c5025a2a23792a783665c   \n126266  896ab399891b323e1f9c1e7e54699045   \n126267  612460c80122b011e0eac3a3d6677d01   \n126268  765e595819db2ffe136fe94411526f69   \n\n                                   genre_names genre_main            director  \\\n126259                                     NaN        NaN                 NaN   \n126260                               'Комедия'    Комедия  Константин Смирнов   \n126261                               'Комедия'    Комедия  Константин Смирнов   \n126262                               'Комедия'    Комедия  Константин Смирнов   \n126263                               'Комедия'    Комедия  Константин Смирнов   \n126264  [''Боевик'',''Детектив'',''Криминал'']   Детектив    Андрей Коршунов   \n126265  [''Боевик'',''Детектив'',''Криминал'']   Детектив    Андрей Коршунов   \n126266                               'Игровой'    Игровой                 NaN   \n126267                              'Детектив'   Детектив     Вячеслав Лавров   \n126268                              'Детектив'   Детектив     Вячеслав Лавров   \n\n        kp_rating   registration_date last_payed_sub_start_ts premiere_dt  \n126259      0.000 2022-10-15 09:46:30     2023-09-25 12:03:01  2020-05-27  \n126260      7.751 2018-08-18 00:58:03     2023-10-06 16:56:11  2021-04-05  \n126261      7.751 2018-08-18 00:58:03     2023-10-06 16:56:11  2021-04-05  \n126262      7.751 2018-08-18 00:58:03     2023-10-06 16:56:11  2019-09-02  \n126263      7.751 2018-08-18 00:58:03     2023-10-06 16:56:11  2021-04-05  \n126264      7.937 2020-11-16 16:50:42     2023-06-02 13:52:03  2023-04-10  \n126265      7.937 2020-11-16 16:50:42     2023-06-02 13:52:03  2023-04-10  \n126266      7.123 2023-04-13 17:49:23     2023-09-10 05:56:08  2023-03-25  \n126267  43647.000 2019-09-01 15:32:25     2023-09-22 14:01:24  2020-09-17  \n126268  43647.000 2019-09-01 15:32:25     2023-09-22 14:01:24  2020-09-17  ",
      "text/html": "<div>\n<style scoped>\n    .dataframe tbody tr th:only-of-type {\n        vertical-align: middle;\n    }\n\n    .dataframe tbody tr th {\n        vertical-align: top;\n    }\n\n    .dataframe thead th {\n        text-align: right;\n    }\n</style>\n<table border=\"1\" class=\"dataframe\">\n  <thead>\n    <tr style=\"text-align: right;\">\n      <th></th>\n      <th>passport_id</th>\n      <th>tv_id</th>\n      <th>title_ru</th>\n      <th>season_num</th>\n      <th>episode_num</th>\n      <th>subscription_flg</th>\n      <th>ts_start</th>\n      <th>view_durations_m</th>\n      <th>video_durations_m</th>\n      <th>content_type</th>\n      <th>subscription_kind</th>\n      <th>view_type</th>\n      <th>uma_video_id</th>\n      <th>genre_names</th>\n      <th>genre_main</th>\n      <th>director</th>\n      <th>kp_rating</th>\n      <th>registration_date</th>\n      <th>last_payed_sub_start_ts</th>\n      <th>premiere_dt</th>\n    </tr>\n  </thead>\n  <tbody>\n    <tr>\n      <th>126259</th>\n      <td>mt11K58BEqdTsQySnJgkY</td>\n      <td>8399</td>\n      <td>тнт4</td>\n      <td>0</td>\n      <td>0</td>\n      <td>1</td>\n      <td>2023-04-18 14:28:13</td>\n      <td>0.0</td>\n      <td>0.0</td>\n      <td>broadcast</td>\n      <td>sub</td>\n      <td>web-pc</td>\n      <td>b0200b6f7a08fb0aad4e1289f491d1ea</td>\n      <td>NaN</td>\n      <td>NaN</td>\n      <td>NaN</td>\n      <td>0.000</td>\n      <td>2022-10-15 09:46:30</td>\n      <td>2023-09-25 12:03:01</td>\n      <td>2020-05-27</td>\n    </tr>\n    <tr>\n      <th>126260</th>\n      <td>pBdwsJvxoUUWdootvD13B</td>\n      <td>8754</td>\n      <td>жуки</td>\n      <td>2</td>\n      <td>5</td>\n      <td>1</td>\n      <td>2023-04-18 18:22:16</td>\n      <td>23.0</td>\n      <td>45161.0</td>\n      <td>series</td>\n      <td>sub</td>\n      <td>app-androidtv</td>\n      <td>3d5ad23592e66a8f6509c3ed534e4e7f</td>\n      <td>'Комедия'</td>\n      <td>Комедия</td>\n      <td>Константин Смирнов</td>\n      <td>7.751</td>\n      <td>2018-08-18 00:58:03</td>\n      <td>2023-10-06 16:56:11</td>\n      <td>2021-04-05</td>\n    </tr>\n    <tr>\n      <th>126261</th>\n      <td>pBdwsJvxoUUWdootvD13B</td>\n      <td>8754</td>\n      <td>жуки</td>\n      <td>2</td>\n      <td>4</td>\n      <td>1</td>\n      <td>2023-04-18 17:59:35</td>\n      <td>45038.0</td>\n      <td>44980.0</td>\n      <td>series</td>\n      <td>sub</td>\n      <td>app-androidtv</td>\n      <td>1ccb01bc0bcaad9c3ce215de330818f3</td>\n      <td>'Комедия'</td>\n      <td>Комедия</td>\n      <td>Константин Смирнов</td>\n      <td>7.751</td>\n      <td>2018-08-18 00:58:03</td>\n      <td>2023-10-06 16:56:11</td>\n      <td>2021-04-05</td>\n    </tr>\n    <tr>\n      <th>126262</th>\n      <td>pBdwsJvxoUUWdootvD13B</td>\n      <td>8754</td>\n      <td>жуки</td>\n      <td>1</td>\n      <td>17</td>\n      <td>1</td>\n      <td>2023-04-18 17:37:30</td>\n      <td>0.0</td>\n      <td>23.0</td>\n      <td>series</td>\n      <td>sub</td>\n      <td>app-androidtv</td>\n      <td>6f58b809b18f14b14702c55f91ab5f68</td>\n      <td>'Комедия'</td>\n      <td>Комедия</td>\n      <td>Константин Смирнов</td>\n      <td>7.751</td>\n      <td>2018-08-18 00:58:03</td>\n      <td>2023-10-06 16:56:11</td>\n      <td>2019-09-02</td>\n    </tr>\n    <tr>\n      <th>126263</th>\n      <td>pBdwsJvxoUUWdootvD13B</td>\n      <td>8754</td>\n      <td>жуки</td>\n      <td>2</td>\n      <td>3</td>\n      <td>1</td>\n      <td>2023-04-18 17:37:42</td>\n      <td>45032.0</td>\n      <td>45009.0</td>\n      <td>series</td>\n      <td>sub</td>\n      <td>app-androidtv</td>\n      <td>104ed79f6bf2438479added32305c0dd</td>\n      <td>'Комедия'</td>\n      <td>Комедия</td>\n      <td>Константин Смирнов</td>\n      <td>7.751</td>\n      <td>2018-08-18 00:58:03</td>\n      <td>2023-10-06 16:56:11</td>\n      <td>2021-04-05</td>\n    </tr>\n    <tr>\n      <th>126264</th>\n      <td>ruHQrC7k7NvNQPrN15zyo</td>\n      <td>14892</td>\n      <td>невский</td>\n      <td>6</td>\n      <td>12</td>\n      <td>1</td>\n      <td>2023-04-18 22:49:32</td>\n      <td>45.3</td>\n      <td>48.0</td>\n      <td>series</td>\n      <td>sub</td>\n      <td>app-lg</td>\n      <td>2ba0150f51f9a1883095a49e79b9f67b</td>\n      <td>[''Боевик'',''Детектив'',''Криминал'']</td>\n      <td>Детектив</td>\n      <td>Андрей Коршунов</td>\n      <td>7.937</td>\n      <td>2020-11-16 16:50:42</td>\n      <td>2023-06-02 13:52:03</td>\n      <td>2023-04-10</td>\n    </tr>\n    <tr>\n      <th>126265</th>\n      <td>ruHQrC7k7NvNQPrN15zyo</td>\n      <td>14892</td>\n      <td>невский</td>\n      <td>6</td>\n      <td>11</td>\n      <td>1</td>\n      <td>2023-04-18 20:50:36</td>\n      <td>47.2</td>\n      <td>48.6</td>\n      <td>series</td>\n      <td>sub</td>\n      <td>app-lg</td>\n      <td>26ea0d39a01c5025a2a23792a783665c</td>\n      <td>[''Боевик'',''Детектив'',''Криминал'']</td>\n      <td>Детектив</td>\n      <td>Андрей Коршунов</td>\n      <td>7.937</td>\n      <td>2020-11-16 16:50:42</td>\n      <td>2023-06-02 13:52:03</td>\n      <td>2023-04-10</td>\n    </tr>\n    <tr>\n      <th>126266</th>\n      <td>upeT6waJujBnDrhmoiTYE</td>\n      <td>15223</td>\n      <td>музыкальная интуиция</td>\n      <td>3</td>\n      <td>4</td>\n      <td>1</td>\n      <td>2023-04-18 17:53:47</td>\n      <td>69.3</td>\n      <td>89.1</td>\n      <td>show</td>\n      <td>trial</td>\n      <td>web-mobile</td>\n      <td>896ab399891b323e1f9c1e7e54699045</td>\n      <td>'Игровой'</td>\n      <td>Игровой</td>\n      <td>NaN</td>\n      <td>7.123</td>\n      <td>2023-04-13 17:49:23</td>\n      <td>2023-09-10 05:56:08</td>\n      <td>2023-03-25</td>\n    </tr>\n    <tr>\n      <th>126267</th>\n      <td>uvQW7QMEwjoqzHikUwytE</td>\n      <td>11033</td>\n      <td>рыцарь нашего времени</td>\n      <td>1</td>\n      <td>3</td>\n      <td>1</td>\n      <td>2023-04-18 14:28:24</td>\n      <td>0.0</td>\n      <td>47.8</td>\n      <td>series</td>\n      <td>sub</td>\n      <td>web-pc</td>\n      <td>612460c80122b011e0eac3a3d6677d01</td>\n      <td>'Детектив'</td>\n      <td>Детектив</td>\n      <td>Вячеслав Лавров</td>\n      <td>43647.000</td>\n      <td>2019-09-01 15:32:25</td>\n      <td>2023-09-22 14:01:24</td>\n      <td>2020-09-17</td>\n    </tr>\n    <tr>\n      <th>126268</th>\n      <td>uvQW7QMEwjoqzHikUwytE</td>\n      <td>11033</td>\n      <td>рыцарь нашего времени</td>\n      <td>1</td>\n      <td>4</td>\n      <td>1</td>\n      <td>2023-04-18 14:28:28</td>\n      <td>45166.0</td>\n      <td>45.2</td>\n      <td>series</td>\n      <td>sub</td>\n      <td>web-pc</td>\n      <td>765e595819db2ffe136fe94411526f69</td>\n      <td>'Детектив'</td>\n      <td>Детектив</td>\n      <td>Вячеслав Лавров</td>\n      <td>43647.000</td>\n      <td>2019-09-01 15:32:25</td>\n      <td>2023-09-22 14:01:24</td>\n      <td>2020-09-17</td>\n    </tr>\n  </tbody>\n</table>\n</div>"
     },
     "execution_count": 6,
     "metadata": {},
     "output_type": "execute_result"
    }
   ],
   "source": [
    "df.tail(10)"
   ],
   "metadata": {
    "collapsed": false
   }
  },
  {
   "cell_type": "code",
   "execution_count": 7,
   "outputs": [
    {
     "data": {
      "text/plain": "               tv_id     season_num    episode_num  subscription_flg  \\\ncount  126269.000000  126269.000000  126269.000000     126269.000000   \nmean    11532.195955       7.016370      12.096817          0.957781   \nmin         7.000000       0.000000       0.000000          0.000000   \n25%      4080.000000       1.000000       2.000000          1.000000   \n50%     13625.000000       2.000000       8.000000          1.000000   \n75%     18547.000000       4.000000      15.000000          1.000000   \nmax     20626.000000    2021.000000     332.000000          1.000000   \nstd      7028.467430      94.241434      18.340409          0.201090   \n\n                            ts_start  view_durations_m  video_durations_m  \\\ncount                         126269     126269.000000      126269.000000   \nmean   2023-04-16 05:36:19.880540416      21738.401029       21578.081531   \nmin              2023-04-01 00:01:27          0.000000           0.000000   \n25%              2023-04-09 10:23:39          0.900000          45.400000   \n50%              2023-04-16 10:34:06         65.500000          94.700000   \n75%              2023-04-23 00:38:02      45056.000000       45067.000000   \nmax              2023-04-30 23:59:51      45199.000000       45199.000000   \nstd                              NaN      22506.795140       22493.505403   \n\n           kp_rating              registration_date  \\\ncount  126269.000000                         126269   \nmean     3710.487498  2021-04-22 17:46:05.198710528   \nmin         0.000000            1970-01-01 03:00:00   \n25%         6.489000            2020-03-17 09:20:20   \n50%         6.803000            2021-06-15 20:20:43   \n75%         7.937000            2022-10-15 09:46:30   \nmax     47331.000000            2023-04-29 16:50:19   \nstd     10216.199634                            NaN   \n\n             last_payed_sub_start_ts                    premiere_dt  \ncount                         126269                         126269  \nmean   2017-09-08 17:03:41.927258368  2021-09-23 05:00:13.656558848  \nmin              1970-01-01 03:00:00            1970-01-01 00:00:00  \n25%              2023-05-20 06:40:00            2020-05-27 00:00:00  \n50%              2023-09-22 21:46:14            2022-04-22 00:00:00  \n75%              2023-10-05 22:36:19            2023-03-17 00:00:00  \nmax              2023-10-19 23:15:26            2023-10-18 00:00:00  \nstd                              NaN                            NaN  ",
      "text/html": "<div>\n<style scoped>\n    .dataframe tbody tr th:only-of-type {\n        vertical-align: middle;\n    }\n\n    .dataframe tbody tr th {\n        vertical-align: top;\n    }\n\n    .dataframe thead th {\n        text-align: right;\n    }\n</style>\n<table border=\"1\" class=\"dataframe\">\n  <thead>\n    <tr style=\"text-align: right;\">\n      <th></th>\n      <th>tv_id</th>\n      <th>season_num</th>\n      <th>episode_num</th>\n      <th>subscription_flg</th>\n      <th>ts_start</th>\n      <th>view_durations_m</th>\n      <th>video_durations_m</th>\n      <th>kp_rating</th>\n      <th>registration_date</th>\n      <th>last_payed_sub_start_ts</th>\n      <th>premiere_dt</th>\n    </tr>\n  </thead>\n  <tbody>\n    <tr>\n      <th>count</th>\n      <td>126269.000000</td>\n      <td>126269.000000</td>\n      <td>126269.000000</td>\n      <td>126269.000000</td>\n      <td>126269</td>\n      <td>126269.000000</td>\n      <td>126269.000000</td>\n      <td>126269.000000</td>\n      <td>126269</td>\n      <td>126269</td>\n      <td>126269</td>\n    </tr>\n    <tr>\n      <th>mean</th>\n      <td>11532.195955</td>\n      <td>7.016370</td>\n      <td>12.096817</td>\n      <td>0.957781</td>\n      <td>2023-04-16 05:36:19.880540416</td>\n      <td>21738.401029</td>\n      <td>21578.081531</td>\n      <td>3710.487498</td>\n      <td>2021-04-22 17:46:05.198710528</td>\n      <td>2017-09-08 17:03:41.927258368</td>\n      <td>2021-09-23 05:00:13.656558848</td>\n    </tr>\n    <tr>\n      <th>min</th>\n      <td>7.000000</td>\n      <td>0.000000</td>\n      <td>0.000000</td>\n      <td>0.000000</td>\n      <td>2023-04-01 00:01:27</td>\n      <td>0.000000</td>\n      <td>0.000000</td>\n      <td>0.000000</td>\n      <td>1970-01-01 03:00:00</td>\n      <td>1970-01-01 03:00:00</td>\n      <td>1970-01-01 00:00:00</td>\n    </tr>\n    <tr>\n      <th>25%</th>\n      <td>4080.000000</td>\n      <td>1.000000</td>\n      <td>2.000000</td>\n      <td>1.000000</td>\n      <td>2023-04-09 10:23:39</td>\n      <td>0.900000</td>\n      <td>45.400000</td>\n      <td>6.489000</td>\n      <td>2020-03-17 09:20:20</td>\n      <td>2023-05-20 06:40:00</td>\n      <td>2020-05-27 00:00:00</td>\n    </tr>\n    <tr>\n      <th>50%</th>\n      <td>13625.000000</td>\n      <td>2.000000</td>\n      <td>8.000000</td>\n      <td>1.000000</td>\n      <td>2023-04-16 10:34:06</td>\n      <td>65.500000</td>\n      <td>94.700000</td>\n      <td>6.803000</td>\n      <td>2021-06-15 20:20:43</td>\n      <td>2023-09-22 21:46:14</td>\n      <td>2022-04-22 00:00:00</td>\n    </tr>\n    <tr>\n      <th>75%</th>\n      <td>18547.000000</td>\n      <td>4.000000</td>\n      <td>15.000000</td>\n      <td>1.000000</td>\n      <td>2023-04-23 00:38:02</td>\n      <td>45056.000000</td>\n      <td>45067.000000</td>\n      <td>7.937000</td>\n      <td>2022-10-15 09:46:30</td>\n      <td>2023-10-05 22:36:19</td>\n      <td>2023-03-17 00:00:00</td>\n    </tr>\n    <tr>\n      <th>max</th>\n      <td>20626.000000</td>\n      <td>2021.000000</td>\n      <td>332.000000</td>\n      <td>1.000000</td>\n      <td>2023-04-30 23:59:51</td>\n      <td>45199.000000</td>\n      <td>45199.000000</td>\n      <td>47331.000000</td>\n      <td>2023-04-29 16:50:19</td>\n      <td>2023-10-19 23:15:26</td>\n      <td>2023-10-18 00:00:00</td>\n    </tr>\n    <tr>\n      <th>std</th>\n      <td>7028.467430</td>\n      <td>94.241434</td>\n      <td>18.340409</td>\n      <td>0.201090</td>\n      <td>NaN</td>\n      <td>22506.795140</td>\n      <td>22493.505403</td>\n      <td>10216.199634</td>\n      <td>NaN</td>\n      <td>NaN</td>\n      <td>NaN</td>\n    </tr>\n  </tbody>\n</table>\n</div>"
     },
     "execution_count": 7,
     "metadata": {},
     "output_type": "execute_result"
    }
   ],
   "source": [
    "df.describe()"
   ],
   "metadata": {
    "collapsed": false
   }
  },
  {
   "cell_type": "code",
   "execution_count": 8,
   "outputs": [
    {
     "name": "stdout",
     "output_type": "stream",
     "text": [
      "<class 'pandas.core.frame.DataFrame'>\n",
      "RangeIndex: 126269 entries, 0 to 126268\n",
      "Data columns (total 20 columns):\n",
      " #   Column                   Non-Null Count   Dtype         \n",
      "---  ------                   --------------   -----         \n",
      " 0   passport_id              126269 non-null  object        \n",
      " 1   tv_id                    126269 non-null  int64         \n",
      " 2   title_ru                 126269 non-null  object        \n",
      " 3   season_num               126269 non-null  int64         \n",
      " 4   episode_num              126269 non-null  int64         \n",
      " 5   subscription_flg         126269 non-null  int64         \n",
      " 6   ts_start                 126269 non-null  datetime64[ns]\n",
      " 7   view_durations_m         126269 non-null  float64       \n",
      " 8   video_durations_m        126269 non-null  float64       \n",
      " 9   content_type             126269 non-null  object        \n",
      " 10  subscription_kind        120938 non-null  object        \n",
      " 11  view_type                126269 non-null  object        \n",
      " 12  uma_video_id             126269 non-null  object        \n",
      " 13  genre_names              116399 non-null  object        \n",
      " 14  genre_main               116282 non-null  object        \n",
      " 15  director                 92072 non-null   object        \n",
      " 16  kp_rating                126269 non-null  float64       \n",
      " 17  registration_date        126269 non-null  datetime64[ns]\n",
      " 18  last_payed_sub_start_ts  126269 non-null  datetime64[ns]\n",
      " 19  premiere_dt              126269 non-null  datetime64[ns]\n",
      "dtypes: datetime64[ns](4), float64(3), int64(4), object(9)\n",
      "memory usage: 19.3+ MB\n"
     ]
    }
   ],
   "source": [
    "df.info()"
   ],
   "metadata": {
    "collapsed": false
   }
  },
  {
   "cell_type": "code",
   "execution_count": 9,
   "outputs": [],
   "source": [
    "# удалим дубли\n",
    "df.drop_duplicates(subset=['passport_id', 'tv_id', 'season_num', 'episode_num', 'ts_start'], keep='last', inplace=True)"
   ],
   "metadata": {
    "collapsed": false
   }
  },
  {
   "cell_type": "code",
   "execution_count": 10,
   "outputs": [],
   "source": [
    "# Удаляем записи, где время просмотра меньше 1 минуты (очень часто они идут вместе с дублирующей записью)\n",
    "df.drop(df[df['view_durations_m'] < 1.0].index, inplace=True)"
   ],
   "metadata": {
    "collapsed": false
   }
  },
  {
   "cell_type": "code",
   "execution_count": 11,
   "outputs": [],
   "source": [
    "# Удаляем записи по которым точно не было просмотра, чтобы не портили статистику\n",
    "# df = df.drop(df[(df['view_durations_m'] == 0) & (df['content_type'] != 'broadcast')].index)"
   ],
   "metadata": {
    "collapsed": false
   }
  },
  {
   "cell_type": "code",
   "execution_count": 12,
   "outputs": [
    {
     "name": "stdout",
     "output_type": "stream",
     "text": [
      "<class 'pandas.core.frame.DataFrame'>\n",
      "Index: 93313 entries, 0 to 126268\n",
      "Data columns (total 20 columns):\n",
      " #   Column                   Non-Null Count  Dtype         \n",
      "---  ------                   --------------  -----         \n",
      " 0   passport_id              93313 non-null  object        \n",
      " 1   tv_id                    93313 non-null  int64         \n",
      " 2   title_ru                 93313 non-null  object        \n",
      " 3   season_num               93313 non-null  int64         \n",
      " 4   episode_num              93313 non-null  int64         \n",
      " 5   subscription_flg         93313 non-null  int64         \n",
      " 6   ts_start                 93313 non-null  datetime64[ns]\n",
      " 7   view_durations_m         93313 non-null  float64       \n",
      " 8   video_durations_m        93313 non-null  float64       \n",
      " 9   content_type             93313 non-null  object        \n",
      " 10  subscription_kind        89141 non-null  object        \n",
      " 11  view_type                93313 non-null  object        \n",
      " 12  uma_video_id             93313 non-null  object        \n",
      " 13  genre_names              91851 non-null  object        \n",
      " 14  genre_main               91766 non-null  object        \n",
      " 15  director                 72826 non-null  object        \n",
      " 16  kp_rating                93313 non-null  float64       \n",
      " 17  registration_date        93313 non-null  datetime64[ns]\n",
      " 18  last_payed_sub_start_ts  93313 non-null  datetime64[ns]\n",
      " 19  premiere_dt              93313 non-null  datetime64[ns]\n",
      "dtypes: datetime64[ns](4), float64(3), int64(4), object(9)\n",
      "memory usage: 15.0+ MB\n"
     ]
    }
   ],
   "source": [
    "df.info()"
   ],
   "metadata": {
    "collapsed": false
   }
  },
  {
   "cell_type": "code",
   "execution_count": 13,
   "outputs": [],
   "source": [
    "# Привести битые данные к нормальным\n",
    "df.view_durations_m = df.view_durations_m.apply(lambda x: x / 1000 if x > 1000 else x)\n",
    "df.video_durations_m = df.video_durations_m.apply(lambda x: x / 1000 if x > 1000 else x)\n",
    "df.kp_rating = df.kp_rating.apply(lambda x: x / 10000 if x > 1000 else x)"
   ],
   "metadata": {
    "collapsed": false
   }
  },
  {
   "cell_type": "code",
   "execution_count": 14,
   "outputs": [],
   "source": [
    "# Убедимся, что данные отсортированы\n",
    "df.sort_values(['passport_id', 'ts_start'], inplace=True)"
   ],
   "metadata": {
    "collapsed": false
   }
  },
  {
   "cell_type": "code",
   "execution_count": 15,
   "outputs": [],
   "source": [
    "# Посчитаем разницу по времени между близкими просмотрами\n",
    "df['time_diff'] = df.groupby(['passport_id', 'tv_id'])['ts_start'].diff()"
   ],
   "metadata": {
    "collapsed": false
   }
  },
  {
   "cell_type": "code",
   "execution_count": 16,
   "outputs": [],
   "source": [
    "# Найдём строки, где разница больше, чем 2 часа или меняется группа просмотра\n",
    "gap_indices = (df['time_diff'] > timedelta(hours=2)) | (df['passport_id'] != df['passport_id'].shift()) | (df['tv_id'] != df['tv_id'].shift())"
   ],
   "metadata": {
    "collapsed": false
   }
  },
  {
   "cell_type": "code",
   "execution_count": 17,
   "outputs": [],
   "source": [
    "# Создадим новую колонку с номером просмотра\n",
    "df['view_number'] = (gap_indices.cumsum() + 1).where(~gap_indices, 1)"
   ],
   "metadata": {
    "collapsed": false
   }
  },
  {
   "cell_type": "code",
   "execution_count": 18,
   "outputs": [],
   "source": [
    "# Была ли вообще подписка когда-нибудь\n",
    "df['ever_subscribed'] = (df['last_payed_sub_start_ts'].dt.date != pd.to_datetime('1970-01-01').date())"
   ],
   "metadata": {
    "collapsed": false
   }
  },
  {
   "cell_type": "code",
   "execution_count": 19,
   "outputs": [
    {
     "data": {
      "text/plain": "                   passport_id  tv_id    title_ru  season_num  episode_num  \\\n394     131JqdtikiJcDH8Ywb9idv   4080       ольга           5            1   \n388     131JqdtikiJcDH8Ywb9idv   4080       ольга           5            2   \n393     131JqdtikiJcDH8Ywb9idv   4080       ольга           5            2   \n391     131JqdtikiJcDH8Ywb9idv   4080       ольга           5            3   \n387     131JqdtikiJcDH8Ywb9idv   4080       ольга           5            4   \n...                        ...    ...         ...         ...          ...   \n116449   fhWAPi9f43rmfTkk5wd2G  10267  территория           1            6   \n116452   fhWAPi9f43rmfTkk5wd2G  10267  территория           1            7   \n119521   fhWAPi9f43rmfTkk5wd2G  20037     соцсети           1            2   \n119524   fhWAPi9f43rmfTkk5wd2G  20037     соцсети           1            3   \n119525   fhWAPi9f43rmfTkk5wd2G  20037     соцсети           1            4   \n\n        subscription_flg            ts_start  view_durations_m  \\\n394                    1 2023-04-15 01:13:10            45.034   \n388                    1 2023-04-15 01:37:32            44.992   \n393                    1 2023-04-15 02:01:37            13.000   \n391                    1 2023-04-15 14:23:42            45.095   \n387                    1 2023-04-15 14:47:52            45.000   \n...                  ...                 ...               ...   \n116449                 0 2023-04-25 15:30:38            44.957   \n116452                 0 2023-04-25 16:05:41            34.500   \n119521                 0 2023-04-26 20:13:25            45.058   \n119524                 0 2023-04-26 20:26:08            45.025   \n119525                 0 2023-04-26 20:35:44            44.994   \n\n        video_durations_m content_type  ...              genre_names  \\\n394                45.130       series  ...                'Комедия'   \n388                45.158       series  ...                'Комедия'   \n393                45.158       series  ...                'Комедия'   \n391                45.127       series  ...                'Комедия'   \n387                45.093       series  ...                'Комедия'   \n...                   ...          ...  ...                      ...   \n116449             44.500       series  ...                  'Драма'   \n116452             50.200       series  ...                  'Драма'   \n119521             23.000       series  ...  [''Драма'',''Комедия'']   \n119524             45.036       series  ...  [''Драма'',''Комедия'']   \n119525             45.012       series  ...  [''Драма'',''Комедия'']   \n\n       genre_main            director kp_rating   registration_date  \\\n394       Комедия       Игорь Волошин     6.489 2021-01-06 05:58:49   \n388       Комедия       Игорь Волошин     6.489 2021-01-06 05:58:49   \n393       Комедия       Игорь Волошин     6.489 2021-01-06 05:58:49   \n391       Комедия       Игорь Волошин     6.489 2021-01-06 05:58:49   \n387       Комедия       Игорь Волошин     6.489 2021-01-06 05:58:49   \n...           ...                 ...       ...                 ...   \n116449      Драма  Игорь Твердохлебов     6.992 2020-03-28 21:37:06   \n116452      Драма  Игорь Твердохлебов     6.992 2020-03-28 21:37:06   \n119521      Драма                 GEX     6.121 2020-03-28 21:37:06   \n119524      Драма                 GEX     6.121 2020-03-28 21:37:06   \n119525      Драма                 GEX     6.121 2020-03-28 21:37:06   \n\n       last_payed_sub_start_ts  premiere_dt       time_diff view_number  \\\n394        1970-01-01 03:00:00   2023-04-10             NaT           1   \n388        1970-01-01 03:00:00   2023-04-10 0 days 00:24:22           2   \n393        1970-01-01 03:00:00   2023-04-10 0 days 00:24:05           2   \n391        1970-01-01 03:00:00   2023-04-10 0 days 12:22:05           1   \n387        1970-01-01 03:00:00   2023-04-10 0 days 00:24:10           3   \n...                        ...          ...             ...         ...   \n116449     1970-01-01 03:00:00   2020-10-11 0 days 00:18:18       31884   \n116452     1970-01-01 03:00:00   2020-10-11 0 days 00:35:03       31884   \n119521     1970-01-01 03:00:00   2023-01-07             NaT           1   \n119524     1970-01-01 03:00:00   2023-01-07 0 days 00:12:43       31885   \n119525     1970-01-01 03:00:00   2023-01-07 0 days 00:09:36       31885   \n\n       ever_subscribed  \n394              False  \n388              False  \n393              False  \n391              False  \n387              False  \n...                ...  \n116449           False  \n116452           False  \n119521           False  \n119524           False  \n119525           False  \n\n[10263 rows x 23 columns]",
      "text/html": "<div>\n<style scoped>\n    .dataframe tbody tr th:only-of-type {\n        vertical-align: middle;\n    }\n\n    .dataframe tbody tr th {\n        vertical-align: top;\n    }\n\n    .dataframe thead th {\n        text-align: right;\n    }\n</style>\n<table border=\"1\" class=\"dataframe\">\n  <thead>\n    <tr style=\"text-align: right;\">\n      <th></th>\n      <th>passport_id</th>\n      <th>tv_id</th>\n      <th>title_ru</th>\n      <th>season_num</th>\n      <th>episode_num</th>\n      <th>subscription_flg</th>\n      <th>ts_start</th>\n      <th>view_durations_m</th>\n      <th>video_durations_m</th>\n      <th>content_type</th>\n      <th>...</th>\n      <th>genre_names</th>\n      <th>genre_main</th>\n      <th>director</th>\n      <th>kp_rating</th>\n      <th>registration_date</th>\n      <th>last_payed_sub_start_ts</th>\n      <th>premiere_dt</th>\n      <th>time_diff</th>\n      <th>view_number</th>\n      <th>ever_subscribed</th>\n    </tr>\n  </thead>\n  <tbody>\n    <tr>\n      <th>394</th>\n      <td>131JqdtikiJcDH8Ywb9idv</td>\n      <td>4080</td>\n      <td>ольга</td>\n      <td>5</td>\n      <td>1</td>\n      <td>1</td>\n      <td>2023-04-15 01:13:10</td>\n      <td>45.034</td>\n      <td>45.130</td>\n      <td>series</td>\n      <td>...</td>\n      <td>'Комедия'</td>\n      <td>Комедия</td>\n      <td>Игорь Волошин</td>\n      <td>6.489</td>\n      <td>2021-01-06 05:58:49</td>\n      <td>1970-01-01 03:00:00</td>\n      <td>2023-04-10</td>\n      <td>NaT</td>\n      <td>1</td>\n      <td>False</td>\n    </tr>\n    <tr>\n      <th>388</th>\n      <td>131JqdtikiJcDH8Ywb9idv</td>\n      <td>4080</td>\n      <td>ольга</td>\n      <td>5</td>\n      <td>2</td>\n      <td>1</td>\n      <td>2023-04-15 01:37:32</td>\n      <td>44.992</td>\n      <td>45.158</td>\n      <td>series</td>\n      <td>...</td>\n      <td>'Комедия'</td>\n      <td>Комедия</td>\n      <td>Игорь Волошин</td>\n      <td>6.489</td>\n      <td>2021-01-06 05:58:49</td>\n      <td>1970-01-01 03:00:00</td>\n      <td>2023-04-10</td>\n      <td>0 days 00:24:22</td>\n      <td>2</td>\n      <td>False</td>\n    </tr>\n    <tr>\n      <th>393</th>\n      <td>131JqdtikiJcDH8Ywb9idv</td>\n      <td>4080</td>\n      <td>ольга</td>\n      <td>5</td>\n      <td>2</td>\n      <td>1</td>\n      <td>2023-04-15 02:01:37</td>\n      <td>13.000</td>\n      <td>45.158</td>\n      <td>series</td>\n      <td>...</td>\n      <td>'Комедия'</td>\n      <td>Комедия</td>\n      <td>Игорь Волошин</td>\n      <td>6.489</td>\n      <td>2021-01-06 05:58:49</td>\n      <td>1970-01-01 03:00:00</td>\n      <td>2023-04-10</td>\n      <td>0 days 00:24:05</td>\n      <td>2</td>\n      <td>False</td>\n    </tr>\n    <tr>\n      <th>391</th>\n      <td>131JqdtikiJcDH8Ywb9idv</td>\n      <td>4080</td>\n      <td>ольга</td>\n      <td>5</td>\n      <td>3</td>\n      <td>1</td>\n      <td>2023-04-15 14:23:42</td>\n      <td>45.095</td>\n      <td>45.127</td>\n      <td>series</td>\n      <td>...</td>\n      <td>'Комедия'</td>\n      <td>Комедия</td>\n      <td>Игорь Волошин</td>\n      <td>6.489</td>\n      <td>2021-01-06 05:58:49</td>\n      <td>1970-01-01 03:00:00</td>\n      <td>2023-04-10</td>\n      <td>0 days 12:22:05</td>\n      <td>1</td>\n      <td>False</td>\n    </tr>\n    <tr>\n      <th>387</th>\n      <td>131JqdtikiJcDH8Ywb9idv</td>\n      <td>4080</td>\n      <td>ольга</td>\n      <td>5</td>\n      <td>4</td>\n      <td>1</td>\n      <td>2023-04-15 14:47:52</td>\n      <td>45.000</td>\n      <td>45.093</td>\n      <td>series</td>\n      <td>...</td>\n      <td>'Комедия'</td>\n      <td>Комедия</td>\n      <td>Игорь Волошин</td>\n      <td>6.489</td>\n      <td>2021-01-06 05:58:49</td>\n      <td>1970-01-01 03:00:00</td>\n      <td>2023-04-10</td>\n      <td>0 days 00:24:10</td>\n      <td>3</td>\n      <td>False</td>\n    </tr>\n    <tr>\n      <th>...</th>\n      <td>...</td>\n      <td>...</td>\n      <td>...</td>\n      <td>...</td>\n      <td>...</td>\n      <td>...</td>\n      <td>...</td>\n      <td>...</td>\n      <td>...</td>\n      <td>...</td>\n      <td>...</td>\n      <td>...</td>\n      <td>...</td>\n      <td>...</td>\n      <td>...</td>\n      <td>...</td>\n      <td>...</td>\n      <td>...</td>\n      <td>...</td>\n      <td>...</td>\n      <td>...</td>\n    </tr>\n    <tr>\n      <th>116449</th>\n      <td>fhWAPi9f43rmfTkk5wd2G</td>\n      <td>10267</td>\n      <td>территория</td>\n      <td>1</td>\n      <td>6</td>\n      <td>0</td>\n      <td>2023-04-25 15:30:38</td>\n      <td>44.957</td>\n      <td>44.500</td>\n      <td>series</td>\n      <td>...</td>\n      <td>'Драма'</td>\n      <td>Драма</td>\n      <td>Игорь Твердохлебов</td>\n      <td>6.992</td>\n      <td>2020-03-28 21:37:06</td>\n      <td>1970-01-01 03:00:00</td>\n      <td>2020-10-11</td>\n      <td>0 days 00:18:18</td>\n      <td>31884</td>\n      <td>False</td>\n    </tr>\n    <tr>\n      <th>116452</th>\n      <td>fhWAPi9f43rmfTkk5wd2G</td>\n      <td>10267</td>\n      <td>территория</td>\n      <td>1</td>\n      <td>7</td>\n      <td>0</td>\n      <td>2023-04-25 16:05:41</td>\n      <td>34.500</td>\n      <td>50.200</td>\n      <td>series</td>\n      <td>...</td>\n      <td>'Драма'</td>\n      <td>Драма</td>\n      <td>Игорь Твердохлебов</td>\n      <td>6.992</td>\n      <td>2020-03-28 21:37:06</td>\n      <td>1970-01-01 03:00:00</td>\n      <td>2020-10-11</td>\n      <td>0 days 00:35:03</td>\n      <td>31884</td>\n      <td>False</td>\n    </tr>\n    <tr>\n      <th>119521</th>\n      <td>fhWAPi9f43rmfTkk5wd2G</td>\n      <td>20037</td>\n      <td>соцсети</td>\n      <td>1</td>\n      <td>2</td>\n      <td>0</td>\n      <td>2023-04-26 20:13:25</td>\n      <td>45.058</td>\n      <td>23.000</td>\n      <td>series</td>\n      <td>...</td>\n      <td>[''Драма'',''Комедия'']</td>\n      <td>Драма</td>\n      <td>GEX</td>\n      <td>6.121</td>\n      <td>2020-03-28 21:37:06</td>\n      <td>1970-01-01 03:00:00</td>\n      <td>2023-01-07</td>\n      <td>NaT</td>\n      <td>1</td>\n      <td>False</td>\n    </tr>\n    <tr>\n      <th>119524</th>\n      <td>fhWAPi9f43rmfTkk5wd2G</td>\n      <td>20037</td>\n      <td>соцсети</td>\n      <td>1</td>\n      <td>3</td>\n      <td>0</td>\n      <td>2023-04-26 20:26:08</td>\n      <td>45.025</td>\n      <td>45.036</td>\n      <td>series</td>\n      <td>...</td>\n      <td>[''Драма'',''Комедия'']</td>\n      <td>Драма</td>\n      <td>GEX</td>\n      <td>6.121</td>\n      <td>2020-03-28 21:37:06</td>\n      <td>1970-01-01 03:00:00</td>\n      <td>2023-01-07</td>\n      <td>0 days 00:12:43</td>\n      <td>31885</td>\n      <td>False</td>\n    </tr>\n    <tr>\n      <th>119525</th>\n      <td>fhWAPi9f43rmfTkk5wd2G</td>\n      <td>20037</td>\n      <td>соцсети</td>\n      <td>1</td>\n      <td>4</td>\n      <td>0</td>\n      <td>2023-04-26 20:35:44</td>\n      <td>44.994</td>\n      <td>45.012</td>\n      <td>series</td>\n      <td>...</td>\n      <td>[''Драма'',''Комедия'']</td>\n      <td>Драма</td>\n      <td>GEX</td>\n      <td>6.121</td>\n      <td>2020-03-28 21:37:06</td>\n      <td>1970-01-01 03:00:00</td>\n      <td>2023-01-07</td>\n      <td>0 days 00:09:36</td>\n      <td>31885</td>\n      <td>False</td>\n    </tr>\n  </tbody>\n</table>\n<p>10263 rows × 23 columns</p>\n</div>"
     },
     "execution_count": 19,
     "metadata": {},
     "output_type": "execute_result"
    }
   ],
   "source": [
    "df[df.ever_subscribed == False]"
   ],
   "metadata": {
    "collapsed": false
   }
  },
  {
   "cell_type": "code",
   "execution_count": 20,
   "outputs": [],
   "source": [
    "def calculate_ratio(row):\n",
    "    if row['content_type'] != 'broadcast':\n",
    "        try:\n",
    "            return int(row['view_durations_m']) / int(row['video_durations_m'])\n",
    "        except ZeroDivisionError:\n",
    "            return None\n",
    "    else:\n",
    "        return None"
   ],
   "metadata": {
    "collapsed": false
   }
  },
  {
   "cell_type": "code",
   "execution_count": 21,
   "outputs": [],
   "source": [
    "# Посчитаем долю просмотра тайтла\n",
    "df['view_duration_ratio'] = df.apply(calculate_ratio, axis=1)"
   ],
   "metadata": {
    "collapsed": false
   }
  },
  {
   "cell_type": "code",
   "execution_count": 22,
   "outputs": [],
   "source": [
    "rows_with_nan = df[df.isna().any(axis=1)]"
   ],
   "metadata": {
    "collapsed": false
   }
  },
  {
   "cell_type": "code",
   "execution_count": 23,
   "outputs": [
    {
     "data": {
      "text/plain": "                   passport_id  tv_id            title_ru  season_num  \\\n4095    2NvSGHyAhXnkMUPYaSwfjD   4080               ольга           4   \n4183    2jsDAnavRFaPhF51kU8i4C   4080               ольга           5   \n7096    5EWsgffHq6cWgFCifWNTu1   4080               ольга           5   \n27640   5iWWE4GbrdMDs7W6CtS962   8714            на ножах           3   \n11914   8wBWmZuyMQiBV52tbppz67   4080               ольга           5   \n64989   8wBWmZuyMQiBV52tbppz67  13625     училки в законе           3   \n38579   9fT6uHR7FAgbvAnbbbt9Bd   4080               ольга           5   \n15952   B7vmBisXUmUrrJhgJzcLwH   4080               ольга           5   \n72991   CZF5XXK1XwDv4Sw8jvQEsP  18547               семья           2   \n70458   EHNPrMHysXRrqfkA2ktxcf  10840   мир дружба жвачка           3   \n39767   F8E3dQSDMaQtHbzUBxj2YU  18547               семья           2   \n51906   F8E3dQSDMaQtHbzUBxj2YU   8754                жуки           3   \n86572   FELw28vKcCrQJKvbopHjpe  18547               семья           2   \n85369   GAadcXwYMm2M6hwW4xAs8X  20471         друг на час           1   \n74255   GnQ55agV7PetGyWWuiUgKq  19705            концерты           1   \n46718   GnYTJASe7bZvtxyniZTGu2  20143      просто михалыч           1   \n80563   M1ThXcBPFdM8gXeC8NrzZt   8102  света с того света           2   \n81245   NYeLFFE8GTm8mufVXCGKLF   4080               ольга           5   \n95119   NYeLFFE8GTm8mufVXCGKLF   4080               ольга           5   \n100426  SmNTky68a35eUCVfKb4Mcn  20247           кафе куба           1   \n100429  SmNTky68a35eUCVfKb4Mcn  20247           кафе куба           1   \n116183  Uyq1Fr9MzeFLBTGFnXvX2M   4080               ольга           5   \n118165  Uyq1Fr9MzeFLBTGFnXvX2M   4080               ольга           5   \n102435  Uyq1Fr9MzeFLBTGFnXvX2M   4080               ольга           5   \n124690  Xk1CQP8mvfhszBSXLGfBM8   4080               ольга           5   \n\n        episode_num  subscription_flg            ts_start  view_durations_m  \\\n4095              0                 1 2023-04-14 11:17:37            45.155   \n4183              0                 1 2023-04-13 19:36:12            44.967   \n7096              0                 1 2023-04-28 10:02:17            44.927   \n27640             0                 1 2023-04-24 17:51:25             1.000   \n11914             0                 1 2023-04-09 10:18:20            44.986   \n64989             0                 1 2023-04-17 09:36:35            44.959   \n38579             0                 1 2023-04-25 20:01:10            44.927   \n15952             0                 1 2023-04-29 17:19:08            44.927   \n72991             0                 1 2023-04-06 09:05:32            45.014   \n70458             1                 1 2023-04-10 10:59:41             1.000   \n39767             0                 1 2023-04-07 03:25:52            45.078   \n51906             0                 1 2023-04-26 13:53:54             1.000   \n86572             0                 1 2023-04-22 16:11:30             1.000   \n85369             0                 1 2023-04-19 20:01:38            45.017   \n74255             0                 1 2023-04-15 03:05:41             1.000   \n46718             0                 1 2023-04-08 16:26:33            45.020   \n80563             0                 1 2023-04-17 19:00:58            45.047   \n81245             0                 1 2023-04-26 09:55:37            44.958   \n95119             0                 1 2023-04-28 08:33:23             1.000   \n100426           17                 1 2023-04-02 00:09:47            44.970   \n100429           20                 1 2023-04-02 00:10:11             2.000   \n116183            0                 0 2023-04-17 12:10:49             1.000   \n118165            0                 1 2023-04-18 07:20:14             1.000   \n102435            0                 1 2023-04-23 10:27:30            44.958   \n124690            0                 1 2023-04-12 00:08:40             1.000   \n\n        video_durations_m content_type  ... genre_main            director  \\\n4095                  0.8       series  ...    Комедия       Игорь Волошин   \n4183                  0.6       series  ...    Комедия       Игорь Волошин   \n7096                  0.6       series  ...    Комедия       Игорь Волошин   \n27640                 0.5         show  ...    Реалити                 NaN   \n11914                 0.6       series  ...    Комедия       Игорь Волошин   \n64989                 0.9       series  ...    Комедия  Константин Колесов   \n38579                 0.6       series  ...    Комедия       Игорь Волошин   \n15952                 0.6       series  ...    Комедия       Игорь Волошин   \n72991                 0.7       series  ...    Комедия                 NaN   \n70458                 0.9       series  ...      Драма                 NaN   \n39767                 0.7       series  ...    Комедия                 NaN   \n51906                 0.8       series  ...    Комедия  Константин Смирнов   \n86572                 0.7       series  ...    Комедия                 NaN   \n85369                 0.8       series  ...    Комедия    Александр Бойков   \n74255                 0.9         show  ...       Юмор                 NaN   \n46718                 0.8       series  ...    Комедия    Евгений Корчагин   \n80563                 0.5       series  ...    Комедия    Максим Пежемский   \n81245                 0.6       series  ...    Комедия       Игорь Волошин   \n95119                 0.6       series  ...    Комедия       Игорь Волошин   \n100426                0.1       series  ...    Комедия     Жанна Кадникова   \n100429                0.1       series  ...    Комедия     Жанна Кадникова   \n116183                0.6       series  ...    Комедия       Игорь Волошин   \n118165                0.6       series  ...    Комедия       Игорь Волошин   \n102435                0.6       series  ...    Комедия       Игорь Волошин   \n124690                0.6       series  ...    Комедия       Игорь Волошин   \n\n       kp_rating   registration_date last_payed_sub_start_ts premiere_dt  \\\n4095      6.4890 2020-02-17 19:55:30     2023-10-08 09:35:06  2020-08-31   \n4183      6.4890 2022-11-10 23:41:50     2023-09-20 21:57:28  2023-04-10   \n7096      6.4890 2018-12-05 00:25:56     2023-06-18 21:08:12  2023-04-10   \n27640     0.0000 2023-04-10 12:43:54     1970-01-01 03:00:00  2019-09-08   \n11914     6.4890 2020-03-19 02:38:01     2023-10-02 20:27:51  2023-04-10   \n64989     6.6180 2020-03-19 02:38:01     2023-10-02 20:27:51  2023-03-17   \n38579     6.4890 2019-12-20 17:05:49     2023-05-06 22:19:15  2023-04-10   \n15952     6.4890 2018-12-05 22:47:07     2023-10-16 23:17:56  2023-04-10   \n72991     7.1890 2019-09-17 12:19:16     2022-11-10 21:23:21  2023-03-27   \n70458     7.9190 2020-10-29 22:36:46     2023-10-09 18:49:40  2023-05-04   \n39767     7.1890 2023-03-10 13:07:21     1970-01-01 03:00:00  2023-03-27   \n51906     7.7510 2023-03-10 13:07:21     1970-01-01 03:00:00  2022-12-05   \n86572     7.1890 2018-12-16 03:09:09     2023-09-28 13:32:10  2023-03-27   \n85369     4.1821 2019-12-07 12:20:23     2020-08-21 10:18:32  2023-04-17   \n74255     6.5530 2020-06-20 22:23:44     2023-10-06 08:19:16  2022-10-30   \n46718     6.6390 2023-03-29 16:31:13     2023-05-28 16:33:36  2023-01-30   \n80563     6.0950 2020-01-08 16:05:40     2023-10-03 20:53:33  2021-06-15   \n81245     6.4890 2021-06-25 13:52:56     2023-10-05 14:33:03  2023-04-10   \n95119     6.4890 2021-06-25 13:52:56     2023-10-05 14:33:03  2023-04-10   \n100426    6.8030 2019-10-15 15:58:48     2023-10-02 12:42:22  2023-03-13   \n100429    6.8030 2019-10-15 15:58:48     2023-10-02 12:42:22  2023-03-13   \n116183    6.4890 2021-04-16 00:06:49     2023-10-11 20:10:36  2023-04-10   \n118165    6.4890 2021-04-16 00:06:49     2023-10-11 20:10:36  2023-04-10   \n102435    6.4890 2021-04-16 00:06:49     2023-10-11 20:10:36  2023-04-10   \n124690    6.4890 2023-04-12 00:02:54     1970-01-01 03:00:00  2023-04-10   \n\n              time_diff view_number ever_subscribed view_duration_ratio  \n4095    0 days 18:56:10           1            True                 NaN  \n4183                NaT           1            True                 NaN  \n7096   21 days 08:02:33           1            True                 NaN  \n27640   5 days 03:34:02           1           False                 NaN  \n11914               NaT           1            True                 NaN  \n64989               NaT           1            True                 NaN  \n38579               NaT           1            True                 NaN  \n15952   0 days 23:47:07           1            True                 NaN  \n72991   0 days 11:27:34           1            True                 NaN  \n70458               NaT           1            True                 NaN  \n39767   1 days 15:55:28           1           False                 NaN  \n51906  18 days 14:46:30           1           False                 NaN  \n86572   3 days 18:41:54           1            True                 NaN  \n85369               NaT           1            True                 NaN  \n74255  10 days 14:27:18           1            True                 NaN  \n46718               NaT           1            True                 NaN  \n80563               NaT           1            True                 NaN  \n81245   0 days 16:45:00           1            True                 NaN  \n95119   0 days 23:12:24           1            True                 NaN  \n100426  0 days 00:21:29       24974            True                 NaN  \n100429  0 days 00:00:24       24974            True                 NaN  \n116183              NaT           1            True                 NaN  \n118165  0 days 15:37:54           1            True                 NaN  \n102435  2 days 03:21:15           1            True                 NaN  \n124690              NaT           1           False                 NaN  \n\n[25 rows x 24 columns]",
      "text/html": "<div>\n<style scoped>\n    .dataframe tbody tr th:only-of-type {\n        vertical-align: middle;\n    }\n\n    .dataframe tbody tr th {\n        vertical-align: top;\n    }\n\n    .dataframe thead th {\n        text-align: right;\n    }\n</style>\n<table border=\"1\" class=\"dataframe\">\n  <thead>\n    <tr style=\"text-align: right;\">\n      <th></th>\n      <th>passport_id</th>\n      <th>tv_id</th>\n      <th>title_ru</th>\n      <th>season_num</th>\n      <th>episode_num</th>\n      <th>subscription_flg</th>\n      <th>ts_start</th>\n      <th>view_durations_m</th>\n      <th>video_durations_m</th>\n      <th>content_type</th>\n      <th>...</th>\n      <th>genre_main</th>\n      <th>director</th>\n      <th>kp_rating</th>\n      <th>registration_date</th>\n      <th>last_payed_sub_start_ts</th>\n      <th>premiere_dt</th>\n      <th>time_diff</th>\n      <th>view_number</th>\n      <th>ever_subscribed</th>\n      <th>view_duration_ratio</th>\n    </tr>\n  </thead>\n  <tbody>\n    <tr>\n      <th>4095</th>\n      <td>2NvSGHyAhXnkMUPYaSwfjD</td>\n      <td>4080</td>\n      <td>ольга</td>\n      <td>4</td>\n      <td>0</td>\n      <td>1</td>\n      <td>2023-04-14 11:17:37</td>\n      <td>45.155</td>\n      <td>0.8</td>\n      <td>series</td>\n      <td>...</td>\n      <td>Комедия</td>\n      <td>Игорь Волошин</td>\n      <td>6.4890</td>\n      <td>2020-02-17 19:55:30</td>\n      <td>2023-10-08 09:35:06</td>\n      <td>2020-08-31</td>\n      <td>0 days 18:56:10</td>\n      <td>1</td>\n      <td>True</td>\n      <td>NaN</td>\n    </tr>\n    <tr>\n      <th>4183</th>\n      <td>2jsDAnavRFaPhF51kU8i4C</td>\n      <td>4080</td>\n      <td>ольга</td>\n      <td>5</td>\n      <td>0</td>\n      <td>1</td>\n      <td>2023-04-13 19:36:12</td>\n      <td>44.967</td>\n      <td>0.6</td>\n      <td>series</td>\n      <td>...</td>\n      <td>Комедия</td>\n      <td>Игорь Волошин</td>\n      <td>6.4890</td>\n      <td>2022-11-10 23:41:50</td>\n      <td>2023-09-20 21:57:28</td>\n      <td>2023-04-10</td>\n      <td>NaT</td>\n      <td>1</td>\n      <td>True</td>\n      <td>NaN</td>\n    </tr>\n    <tr>\n      <th>7096</th>\n      <td>5EWsgffHq6cWgFCifWNTu1</td>\n      <td>4080</td>\n      <td>ольга</td>\n      <td>5</td>\n      <td>0</td>\n      <td>1</td>\n      <td>2023-04-28 10:02:17</td>\n      <td>44.927</td>\n      <td>0.6</td>\n      <td>series</td>\n      <td>...</td>\n      <td>Комедия</td>\n      <td>Игорь Волошин</td>\n      <td>6.4890</td>\n      <td>2018-12-05 00:25:56</td>\n      <td>2023-06-18 21:08:12</td>\n      <td>2023-04-10</td>\n      <td>21 days 08:02:33</td>\n      <td>1</td>\n      <td>True</td>\n      <td>NaN</td>\n    </tr>\n    <tr>\n      <th>27640</th>\n      <td>5iWWE4GbrdMDs7W6CtS962</td>\n      <td>8714</td>\n      <td>на ножах</td>\n      <td>3</td>\n      <td>0</td>\n      <td>1</td>\n      <td>2023-04-24 17:51:25</td>\n      <td>1.000</td>\n      <td>0.5</td>\n      <td>show</td>\n      <td>...</td>\n      <td>Реалити</td>\n      <td>NaN</td>\n      <td>0.0000</td>\n      <td>2023-04-10 12:43:54</td>\n      <td>1970-01-01 03:00:00</td>\n      <td>2019-09-08</td>\n      <td>5 days 03:34:02</td>\n      <td>1</td>\n      <td>False</td>\n      <td>NaN</td>\n    </tr>\n    <tr>\n      <th>11914</th>\n      <td>8wBWmZuyMQiBV52tbppz67</td>\n      <td>4080</td>\n      <td>ольга</td>\n      <td>5</td>\n      <td>0</td>\n      <td>1</td>\n      <td>2023-04-09 10:18:20</td>\n      <td>44.986</td>\n      <td>0.6</td>\n      <td>series</td>\n      <td>...</td>\n      <td>Комедия</td>\n      <td>Игорь Волошин</td>\n      <td>6.4890</td>\n      <td>2020-03-19 02:38:01</td>\n      <td>2023-10-02 20:27:51</td>\n      <td>2023-04-10</td>\n      <td>NaT</td>\n      <td>1</td>\n      <td>True</td>\n      <td>NaN</td>\n    </tr>\n    <tr>\n      <th>64989</th>\n      <td>8wBWmZuyMQiBV52tbppz67</td>\n      <td>13625</td>\n      <td>училки в законе</td>\n      <td>3</td>\n      <td>0</td>\n      <td>1</td>\n      <td>2023-04-17 09:36:35</td>\n      <td>44.959</td>\n      <td>0.9</td>\n      <td>series</td>\n      <td>...</td>\n      <td>Комедия</td>\n      <td>Константин Колесов</td>\n      <td>6.6180</td>\n      <td>2020-03-19 02:38:01</td>\n      <td>2023-10-02 20:27:51</td>\n      <td>2023-03-17</td>\n      <td>NaT</td>\n      <td>1</td>\n      <td>True</td>\n      <td>NaN</td>\n    </tr>\n    <tr>\n      <th>38579</th>\n      <td>9fT6uHR7FAgbvAnbbbt9Bd</td>\n      <td>4080</td>\n      <td>ольга</td>\n      <td>5</td>\n      <td>0</td>\n      <td>1</td>\n      <td>2023-04-25 20:01:10</td>\n      <td>44.927</td>\n      <td>0.6</td>\n      <td>series</td>\n      <td>...</td>\n      <td>Комедия</td>\n      <td>Игорь Волошин</td>\n      <td>6.4890</td>\n      <td>2019-12-20 17:05:49</td>\n      <td>2023-05-06 22:19:15</td>\n      <td>2023-04-10</td>\n      <td>NaT</td>\n      <td>1</td>\n      <td>True</td>\n      <td>NaN</td>\n    </tr>\n    <tr>\n      <th>15952</th>\n      <td>B7vmBisXUmUrrJhgJzcLwH</td>\n      <td>4080</td>\n      <td>ольга</td>\n      <td>5</td>\n      <td>0</td>\n      <td>1</td>\n      <td>2023-04-29 17:19:08</td>\n      <td>44.927</td>\n      <td>0.6</td>\n      <td>series</td>\n      <td>...</td>\n      <td>Комедия</td>\n      <td>Игорь Волошин</td>\n      <td>6.4890</td>\n      <td>2018-12-05 22:47:07</td>\n      <td>2023-10-16 23:17:56</td>\n      <td>2023-04-10</td>\n      <td>0 days 23:47:07</td>\n      <td>1</td>\n      <td>True</td>\n      <td>NaN</td>\n    </tr>\n    <tr>\n      <th>72991</th>\n      <td>CZF5XXK1XwDv4Sw8jvQEsP</td>\n      <td>18547</td>\n      <td>семья</td>\n      <td>2</td>\n      <td>0</td>\n      <td>1</td>\n      <td>2023-04-06 09:05:32</td>\n      <td>45.014</td>\n      <td>0.7</td>\n      <td>series</td>\n      <td>...</td>\n      <td>Комедия</td>\n      <td>NaN</td>\n      <td>7.1890</td>\n      <td>2019-09-17 12:19:16</td>\n      <td>2022-11-10 21:23:21</td>\n      <td>2023-03-27</td>\n      <td>0 days 11:27:34</td>\n      <td>1</td>\n      <td>True</td>\n      <td>NaN</td>\n    </tr>\n    <tr>\n      <th>70458</th>\n      <td>EHNPrMHysXRrqfkA2ktxcf</td>\n      <td>10840</td>\n      <td>мир дружба жвачка</td>\n      <td>3</td>\n      <td>1</td>\n      <td>1</td>\n      <td>2023-04-10 10:59:41</td>\n      <td>1.000</td>\n      <td>0.9</td>\n      <td>series</td>\n      <td>...</td>\n      <td>Драма</td>\n      <td>NaN</td>\n      <td>7.9190</td>\n      <td>2020-10-29 22:36:46</td>\n      <td>2023-10-09 18:49:40</td>\n      <td>2023-05-04</td>\n      <td>NaT</td>\n      <td>1</td>\n      <td>True</td>\n      <td>NaN</td>\n    </tr>\n    <tr>\n      <th>39767</th>\n      <td>F8E3dQSDMaQtHbzUBxj2YU</td>\n      <td>18547</td>\n      <td>семья</td>\n      <td>2</td>\n      <td>0</td>\n      <td>1</td>\n      <td>2023-04-07 03:25:52</td>\n      <td>45.078</td>\n      <td>0.7</td>\n      <td>series</td>\n      <td>...</td>\n      <td>Комедия</td>\n      <td>NaN</td>\n      <td>7.1890</td>\n      <td>2023-03-10 13:07:21</td>\n      <td>1970-01-01 03:00:00</td>\n      <td>2023-03-27</td>\n      <td>1 days 15:55:28</td>\n      <td>1</td>\n      <td>False</td>\n      <td>NaN</td>\n    </tr>\n    <tr>\n      <th>51906</th>\n      <td>F8E3dQSDMaQtHbzUBxj2YU</td>\n      <td>8754</td>\n      <td>жуки</td>\n      <td>3</td>\n      <td>0</td>\n      <td>1</td>\n      <td>2023-04-26 13:53:54</td>\n      <td>1.000</td>\n      <td>0.8</td>\n      <td>series</td>\n      <td>...</td>\n      <td>Комедия</td>\n      <td>Константин Смирнов</td>\n      <td>7.7510</td>\n      <td>2023-03-10 13:07:21</td>\n      <td>1970-01-01 03:00:00</td>\n      <td>2022-12-05</td>\n      <td>18 days 14:46:30</td>\n      <td>1</td>\n      <td>False</td>\n      <td>NaN</td>\n    </tr>\n    <tr>\n      <th>86572</th>\n      <td>FELw28vKcCrQJKvbopHjpe</td>\n      <td>18547</td>\n      <td>семья</td>\n      <td>2</td>\n      <td>0</td>\n      <td>1</td>\n      <td>2023-04-22 16:11:30</td>\n      <td>1.000</td>\n      <td>0.7</td>\n      <td>series</td>\n      <td>...</td>\n      <td>Комедия</td>\n      <td>NaN</td>\n      <td>7.1890</td>\n      <td>2018-12-16 03:09:09</td>\n      <td>2023-09-28 13:32:10</td>\n      <td>2023-03-27</td>\n      <td>3 days 18:41:54</td>\n      <td>1</td>\n      <td>True</td>\n      <td>NaN</td>\n    </tr>\n    <tr>\n      <th>85369</th>\n      <td>GAadcXwYMm2M6hwW4xAs8X</td>\n      <td>20471</td>\n      <td>друг на час</td>\n      <td>1</td>\n      <td>0</td>\n      <td>1</td>\n      <td>2023-04-19 20:01:38</td>\n      <td>45.017</td>\n      <td>0.8</td>\n      <td>series</td>\n      <td>...</td>\n      <td>Комедия</td>\n      <td>Александр Бойков</td>\n      <td>4.1821</td>\n      <td>2019-12-07 12:20:23</td>\n      <td>2020-08-21 10:18:32</td>\n      <td>2023-04-17</td>\n      <td>NaT</td>\n      <td>1</td>\n      <td>True</td>\n      <td>NaN</td>\n    </tr>\n    <tr>\n      <th>74255</th>\n      <td>GnQ55agV7PetGyWWuiUgKq</td>\n      <td>19705</td>\n      <td>концерты</td>\n      <td>1</td>\n      <td>0</td>\n      <td>1</td>\n      <td>2023-04-15 03:05:41</td>\n      <td>1.000</td>\n      <td>0.9</td>\n      <td>show</td>\n      <td>...</td>\n      <td>Юмор</td>\n      <td>NaN</td>\n      <td>6.5530</td>\n      <td>2020-06-20 22:23:44</td>\n      <td>2023-10-06 08:19:16</td>\n      <td>2022-10-30</td>\n      <td>10 days 14:27:18</td>\n      <td>1</td>\n      <td>True</td>\n      <td>NaN</td>\n    </tr>\n    <tr>\n      <th>46718</th>\n      <td>GnYTJASe7bZvtxyniZTGu2</td>\n      <td>20143</td>\n      <td>просто михалыч</td>\n      <td>1</td>\n      <td>0</td>\n      <td>1</td>\n      <td>2023-04-08 16:26:33</td>\n      <td>45.020</td>\n      <td>0.8</td>\n      <td>series</td>\n      <td>...</td>\n      <td>Комедия</td>\n      <td>Евгений Корчагин</td>\n      <td>6.6390</td>\n      <td>2023-03-29 16:31:13</td>\n      <td>2023-05-28 16:33:36</td>\n      <td>2023-01-30</td>\n      <td>NaT</td>\n      <td>1</td>\n      <td>True</td>\n      <td>NaN</td>\n    </tr>\n    <tr>\n      <th>80563</th>\n      <td>M1ThXcBPFdM8gXeC8NrzZt</td>\n      <td>8102</td>\n      <td>света с того света</td>\n      <td>2</td>\n      <td>0</td>\n      <td>1</td>\n      <td>2023-04-17 19:00:58</td>\n      <td>45.047</td>\n      <td>0.5</td>\n      <td>series</td>\n      <td>...</td>\n      <td>Комедия</td>\n      <td>Максим Пежемский</td>\n      <td>6.0950</td>\n      <td>2020-01-08 16:05:40</td>\n      <td>2023-10-03 20:53:33</td>\n      <td>2021-06-15</td>\n      <td>NaT</td>\n      <td>1</td>\n      <td>True</td>\n      <td>NaN</td>\n    </tr>\n    <tr>\n      <th>81245</th>\n      <td>NYeLFFE8GTm8mufVXCGKLF</td>\n      <td>4080</td>\n      <td>ольга</td>\n      <td>5</td>\n      <td>0</td>\n      <td>1</td>\n      <td>2023-04-26 09:55:37</td>\n      <td>44.958</td>\n      <td>0.6</td>\n      <td>series</td>\n      <td>...</td>\n      <td>Комедия</td>\n      <td>Игорь Волошин</td>\n      <td>6.4890</td>\n      <td>2021-06-25 13:52:56</td>\n      <td>2023-10-05 14:33:03</td>\n      <td>2023-04-10</td>\n      <td>0 days 16:45:00</td>\n      <td>1</td>\n      <td>True</td>\n      <td>NaN</td>\n    </tr>\n    <tr>\n      <th>95119</th>\n      <td>NYeLFFE8GTm8mufVXCGKLF</td>\n      <td>4080</td>\n      <td>ольга</td>\n      <td>5</td>\n      <td>0</td>\n      <td>1</td>\n      <td>2023-04-28 08:33:23</td>\n      <td>1.000</td>\n      <td>0.6</td>\n      <td>series</td>\n      <td>...</td>\n      <td>Комедия</td>\n      <td>Игорь Волошин</td>\n      <td>6.4890</td>\n      <td>2021-06-25 13:52:56</td>\n      <td>2023-10-05 14:33:03</td>\n      <td>2023-04-10</td>\n      <td>0 days 23:12:24</td>\n      <td>1</td>\n      <td>True</td>\n      <td>NaN</td>\n    </tr>\n    <tr>\n      <th>100426</th>\n      <td>SmNTky68a35eUCVfKb4Mcn</td>\n      <td>20247</td>\n      <td>кафе куба</td>\n      <td>1</td>\n      <td>17</td>\n      <td>1</td>\n      <td>2023-04-02 00:09:47</td>\n      <td>44.970</td>\n      <td>0.1</td>\n      <td>series</td>\n      <td>...</td>\n      <td>Комедия</td>\n      <td>Жанна Кадникова</td>\n      <td>6.8030</td>\n      <td>2019-10-15 15:58:48</td>\n      <td>2023-10-02 12:42:22</td>\n      <td>2023-03-13</td>\n      <td>0 days 00:21:29</td>\n      <td>24974</td>\n      <td>True</td>\n      <td>NaN</td>\n    </tr>\n    <tr>\n      <th>100429</th>\n      <td>SmNTky68a35eUCVfKb4Mcn</td>\n      <td>20247</td>\n      <td>кафе куба</td>\n      <td>1</td>\n      <td>20</td>\n      <td>1</td>\n      <td>2023-04-02 00:10:11</td>\n      <td>2.000</td>\n      <td>0.1</td>\n      <td>series</td>\n      <td>...</td>\n      <td>Комедия</td>\n      <td>Жанна Кадникова</td>\n      <td>6.8030</td>\n      <td>2019-10-15 15:58:48</td>\n      <td>2023-10-02 12:42:22</td>\n      <td>2023-03-13</td>\n      <td>0 days 00:00:24</td>\n      <td>24974</td>\n      <td>True</td>\n      <td>NaN</td>\n    </tr>\n    <tr>\n      <th>116183</th>\n      <td>Uyq1Fr9MzeFLBTGFnXvX2M</td>\n      <td>4080</td>\n      <td>ольга</td>\n      <td>5</td>\n      <td>0</td>\n      <td>0</td>\n      <td>2023-04-17 12:10:49</td>\n      <td>1.000</td>\n      <td>0.6</td>\n      <td>series</td>\n      <td>...</td>\n      <td>Комедия</td>\n      <td>Игорь Волошин</td>\n      <td>6.4890</td>\n      <td>2021-04-16 00:06:49</td>\n      <td>2023-10-11 20:10:36</td>\n      <td>2023-04-10</td>\n      <td>NaT</td>\n      <td>1</td>\n      <td>True</td>\n      <td>NaN</td>\n    </tr>\n    <tr>\n      <th>118165</th>\n      <td>Uyq1Fr9MzeFLBTGFnXvX2M</td>\n      <td>4080</td>\n      <td>ольга</td>\n      <td>5</td>\n      <td>0</td>\n      <td>1</td>\n      <td>2023-04-18 07:20:14</td>\n      <td>1.000</td>\n      <td>0.6</td>\n      <td>series</td>\n      <td>...</td>\n      <td>Комедия</td>\n      <td>Игорь Волошин</td>\n      <td>6.4890</td>\n      <td>2021-04-16 00:06:49</td>\n      <td>2023-10-11 20:10:36</td>\n      <td>2023-04-10</td>\n      <td>0 days 15:37:54</td>\n      <td>1</td>\n      <td>True</td>\n      <td>NaN</td>\n    </tr>\n    <tr>\n      <th>102435</th>\n      <td>Uyq1Fr9MzeFLBTGFnXvX2M</td>\n      <td>4080</td>\n      <td>ольга</td>\n      <td>5</td>\n      <td>0</td>\n      <td>1</td>\n      <td>2023-04-23 10:27:30</td>\n      <td>44.958</td>\n      <td>0.6</td>\n      <td>series</td>\n      <td>...</td>\n      <td>Комедия</td>\n      <td>Игорь Волошин</td>\n      <td>6.4890</td>\n      <td>2021-04-16 00:06:49</td>\n      <td>2023-10-11 20:10:36</td>\n      <td>2023-04-10</td>\n      <td>2 days 03:21:15</td>\n      <td>1</td>\n      <td>True</td>\n      <td>NaN</td>\n    </tr>\n    <tr>\n      <th>124690</th>\n      <td>Xk1CQP8mvfhszBSXLGfBM8</td>\n      <td>4080</td>\n      <td>ольга</td>\n      <td>5</td>\n      <td>0</td>\n      <td>1</td>\n      <td>2023-04-12 00:08:40</td>\n      <td>1.000</td>\n      <td>0.6</td>\n      <td>series</td>\n      <td>...</td>\n      <td>Комедия</td>\n      <td>Игорь Волошин</td>\n      <td>6.4890</td>\n      <td>2023-04-12 00:02:54</td>\n      <td>1970-01-01 03:00:00</td>\n      <td>2023-04-10</td>\n      <td>NaT</td>\n      <td>1</td>\n      <td>False</td>\n      <td>NaN</td>\n    </tr>\n  </tbody>\n</table>\n<p>25 rows × 24 columns</p>\n</div>"
     },
     "execution_count": 23,
     "metadata": {},
     "output_type": "execute_result"
    }
   ],
   "source": [
    "rows_with_nan[(rows_with_nan['video_durations_m'] < 1.0) & (rows_with_nan.content_type != 'broadcast')]"
   ],
   "metadata": {
    "collapsed": false
   }
  },
  {
   "cell_type": "code",
   "execution_count": 24,
   "outputs": [
    {
     "data": {
      "text/plain": "view_duration_ratio\n1.000000    30136\n0.977778     8543\n1.022727     7295\n0.937500     1223\n0.978261     1178\n            ...  \n0.644860        1\n0.910891        1\n0.902913        1\n0.971631        1\n1.782609        1\nName: count, Length: 2489, dtype: int64"
     },
     "execution_count": 24,
     "metadata": {},
     "output_type": "execute_result"
    }
   ],
   "source": [
    "df.view_duration_ratio.value_counts()"
   ],
   "metadata": {
    "collapsed": false
   }
  },
  {
   "cell_type": "code",
   "execution_count": 25,
   "outputs": [],
   "source": [
    "def check_value(value):\n",
    "    if pd.notnull(value):\n",
    "        return value > 0.8\n",
    "    else:\n",
    "        return None"
   ],
   "metadata": {
    "collapsed": false
   }
  },
  {
   "cell_type": "code",
   "execution_count": 26,
   "outputs": [],
   "source": [
    "df['is_viewed_to_end'] = df.view_duration_ratio.apply(check_value)"
   ],
   "metadata": {
    "collapsed": false
   }
  },
  {
   "cell_type": "code",
   "execution_count": 27,
   "outputs": [],
   "source": [
    "# Добавим лейбл по дню\n",
    "b = [0,4,8,12,16,20,24]\n",
    "l = ['Late Night', 'Early Morning','Morning','Noon','Eve','Night']\n",
    "df['part_of_day'] = pd.cut(df['ts_start'].dt.hour, bins=b, labels=l, include_lowest=True)"
   ],
   "metadata": {
    "collapsed": false
   }
  },
  {
   "cell_type": "code",
   "execution_count": 28,
   "outputs": [
    {
     "data": {
      "text/plain": "part_of_day\nEve              22231\nNoon             18544\nNight            18171\nMorning          14282\nLate Night       11997\nEarly Morning     8088\nName: count, dtype: int64"
     },
     "execution_count": 28,
     "metadata": {},
     "output_type": "execute_result"
    }
   ],
   "source": [
    "df['part_of_day'].value_counts()\n",
    "# Больше всего смотрят вечером/ночью/"
   ],
   "metadata": {
    "collapsed": false
   }
  },
  {
   "cell_type": "code",
   "execution_count": 29,
   "outputs": [],
   "source": [
    "def get_ts_start_premier_diff(row):\n",
    "    return (row['ts_start'] - row['premiere_dt']).days\n",
    "\n",
    "def get_registration_sub_diff(row):\n",
    "    if row['ever_subscribed'] is False:\n",
    "        return None\n",
    "    return (row['last_payed_sub_start_ts'] - row['registration_date']).days"
   ],
   "metadata": {
    "collapsed": false
   }
  },
  {
   "cell_type": "code",
   "execution_count": 30,
   "outputs": [],
   "source": [
    "# Посчитаем дни между оплатой подписки и премьерой/регистрацией\n",
    "df['diff_days_between_premier'] = df.apply(get_ts_start_premier_diff, axis=1)\n",
    "df['diff_days_between_payed_and_registration'] = df.apply(get_registration_sub_diff, axis=1)"
   ],
   "metadata": {
    "collapsed": false
   }
  },
  {
   "cell_type": "code",
   "execution_count": 31,
   "outputs": [
    {
     "data": {
      "text/plain": "diff_days_between_premier\n 16      1440\n 10      1315\n 9       1242\n 17      1236\n 15      1217\n         ... \n 1246       1\n-22         1\n 1200       1\n 1201       1\n 1404       1\nName: count, Length: 1649, dtype: int64"
     },
     "execution_count": 31,
     "metadata": {},
     "output_type": "execute_result"
    }
   ],
   "source": [
    "df.diff_days_between_premier.value_counts()"
   ],
   "metadata": {
    "collapsed": false
   }
  },
  {
   "cell_type": "code",
   "execution_count": 32,
   "outputs": [],
   "source": [
    "# Так как есть серии, которые \"досматривали\" нужно посчитать общее время просмотра\n",
    "df['sum_by_user_and_series'] = df.groupby(['passport_id', 'title_ru', 'season_num', 'episode_num'])['view_durations_m'].transform('sum')"
   ],
   "metadata": {
    "collapsed": false
   }
  },
  {
   "cell_type": "code",
   "execution_count": 33,
   "outputs": [
    {
     "data": {
      "text/plain": "                  passport_id  tv_id         title_ru  season_num  \\\n47001  F8E3dQSDMaQtHbzUBxj2YU  18547            семья           2   \n47000  F8E3dQSDMaQtHbzUBxj2YU  18547            семья           2   \n46999  F8E3dQSDMaQtHbzUBxj2YU  18547            семья           2   \n47002  F8E3dQSDMaQtHbzUBxj2YU  18547            семья           2   \n47010  F8E3dQSDMaQtHbzUBxj2YU  18581         сеструха           1   \n...                       ...    ...              ...         ...   \n62568  F8E3dQSDMaQtHbzUBxj2YU  20400  мой брат  робот           0   \n62567  F8E3dQSDMaQtHbzUBxj2YU  20415           ангела           0   \n62575  F8E3dQSDMaQtHbzUBxj2YU  10470          хеллбой           0   \n35881  F8E3dQSDMaQtHbzUBxj2YU   4080            ольга           5   \n35880  F8E3dQSDMaQtHbzUBxj2YU  20473      на дне 2023           1   \n\n       episode_num  subscription_flg            ts_start  view_durations_m  \\\n47001            3                 1 2023-04-03 16:57:49            44.987   \n47000            5                 1 2023-04-03 17:00:45            44.980   \n46999            6                 1 2023-04-03 17:25:16            23.000   \n47002            7                 1 2023-04-03 17:55:06            45.145   \n47010            2                 1 2023-04-03 18:05:50            44.978   \n...            ...               ...                 ...               ...   \n62568            0                 1 2023-04-27 09:26:47            45.119   \n62567            0                 1 2023-04-27 20:16:51            45.081   \n62575            0                 1 2023-04-27 20:22:47           114.900   \n35881           13                 1 2023-04-28 06:08:22            22.000   \n35880            0                 1 2023-04-28 06:31:08            45.078   \n\n       video_durations_m content_type  ... premiere_dt       time_diff  \\\n47001             45.037       series  ...  2023-03-27             NaT   \n47000             45.100       series  ...  2023-03-27 0 days 00:02:56   \n46999             44.949       series  ...  2023-03-27 0 days 00:24:31   \n47002             44.948       series  ...  2023-03-27 0 days 00:29:50   \n47010             45.037       series  ...  2023-02-03             NaT   \n...                  ...          ...  ...         ...             ...   \n62568             80.700        movie  ...  2023-03-24 0 days 01:11:06   \n62567             87.000        movie  ...  1970-01-01             NaT   \n62575            115.800        movie  ...  2020-05-27             NaT   \n35881             23.000       series  ...  2023-04-10 0 days 23:37:47   \n35880             45.078       series  ...  2023-04-27             NaT   \n\n      view_number ever_subscribed view_duration_ratio is_viewed_to_end  \\\n47001           1           False            0.977778             True   \n47000       12539           False            0.977778             True   \n46999       12539           False            0.522727            False   \n47002       12539           False            1.022727             True   \n47010           1           False            0.977778             True   \n...           ...             ...                 ...              ...   \n62568       12647           False            0.562500            False   \n62567           1           False            0.517241            False   \n62575           1           False            0.991304             True   \n35881           1           False            0.956522             True   \n35880           1           False            1.000000             True   \n\n         part_of_day diff_days_between_premier  \\\n47001           Noon                         7   \n47000            Eve                         7   \n46999            Eve                         7   \n47002            Eve                         7   \n47010            Eve                        59   \n...              ...                       ...   \n62568        Morning                        34   \n62567            Eve                     19474   \n62575            Eve                      1065   \n35881  Early Morning                        18   \n35880  Early Morning                         1   \n\n      diff_days_between_payed_and_registration sum_by_user_and_series  \n47001                                      NaN                 44.987  \n47000                                      NaN                 44.980  \n46999                                      NaN                 23.000  \n47002                                      NaN                 45.145  \n47010                                      NaN                 44.978  \n...                                        ...                    ...  \n62568                                      NaN                135.196  \n62567                                      NaN                 45.081  \n62575                                      NaN                114.900  \n35881                                      NaN                 22.000  \n35880                                      NaN                 45.078  \n\n[211 rows x 29 columns]",
      "text/html": "<div>\n<style scoped>\n    .dataframe tbody tr th:only-of-type {\n        vertical-align: middle;\n    }\n\n    .dataframe tbody tr th {\n        vertical-align: top;\n    }\n\n    .dataframe thead th {\n        text-align: right;\n    }\n</style>\n<table border=\"1\" class=\"dataframe\">\n  <thead>\n    <tr style=\"text-align: right;\">\n      <th></th>\n      <th>passport_id</th>\n      <th>tv_id</th>\n      <th>title_ru</th>\n      <th>season_num</th>\n      <th>episode_num</th>\n      <th>subscription_flg</th>\n      <th>ts_start</th>\n      <th>view_durations_m</th>\n      <th>video_durations_m</th>\n      <th>content_type</th>\n      <th>...</th>\n      <th>premiere_dt</th>\n      <th>time_diff</th>\n      <th>view_number</th>\n      <th>ever_subscribed</th>\n      <th>view_duration_ratio</th>\n      <th>is_viewed_to_end</th>\n      <th>part_of_day</th>\n      <th>diff_days_between_premier</th>\n      <th>diff_days_between_payed_and_registration</th>\n      <th>sum_by_user_and_series</th>\n    </tr>\n  </thead>\n  <tbody>\n    <tr>\n      <th>47001</th>\n      <td>F8E3dQSDMaQtHbzUBxj2YU</td>\n      <td>18547</td>\n      <td>семья</td>\n      <td>2</td>\n      <td>3</td>\n      <td>1</td>\n      <td>2023-04-03 16:57:49</td>\n      <td>44.987</td>\n      <td>45.037</td>\n      <td>series</td>\n      <td>...</td>\n      <td>2023-03-27</td>\n      <td>NaT</td>\n      <td>1</td>\n      <td>False</td>\n      <td>0.977778</td>\n      <td>True</td>\n      <td>Noon</td>\n      <td>7</td>\n      <td>NaN</td>\n      <td>44.987</td>\n    </tr>\n    <tr>\n      <th>47000</th>\n      <td>F8E3dQSDMaQtHbzUBxj2YU</td>\n      <td>18547</td>\n      <td>семья</td>\n      <td>2</td>\n      <td>5</td>\n      <td>1</td>\n      <td>2023-04-03 17:00:45</td>\n      <td>44.980</td>\n      <td>45.100</td>\n      <td>series</td>\n      <td>...</td>\n      <td>2023-03-27</td>\n      <td>0 days 00:02:56</td>\n      <td>12539</td>\n      <td>False</td>\n      <td>0.977778</td>\n      <td>True</td>\n      <td>Eve</td>\n      <td>7</td>\n      <td>NaN</td>\n      <td>44.980</td>\n    </tr>\n    <tr>\n      <th>46999</th>\n      <td>F8E3dQSDMaQtHbzUBxj2YU</td>\n      <td>18547</td>\n      <td>семья</td>\n      <td>2</td>\n      <td>6</td>\n      <td>1</td>\n      <td>2023-04-03 17:25:16</td>\n      <td>23.000</td>\n      <td>44.949</td>\n      <td>series</td>\n      <td>...</td>\n      <td>2023-03-27</td>\n      <td>0 days 00:24:31</td>\n      <td>12539</td>\n      <td>False</td>\n      <td>0.522727</td>\n      <td>False</td>\n      <td>Eve</td>\n      <td>7</td>\n      <td>NaN</td>\n      <td>23.000</td>\n    </tr>\n    <tr>\n      <th>47002</th>\n      <td>F8E3dQSDMaQtHbzUBxj2YU</td>\n      <td>18547</td>\n      <td>семья</td>\n      <td>2</td>\n      <td>7</td>\n      <td>1</td>\n      <td>2023-04-03 17:55:06</td>\n      <td>45.145</td>\n      <td>44.948</td>\n      <td>series</td>\n      <td>...</td>\n      <td>2023-03-27</td>\n      <td>0 days 00:29:50</td>\n      <td>12539</td>\n      <td>False</td>\n      <td>1.022727</td>\n      <td>True</td>\n      <td>Eve</td>\n      <td>7</td>\n      <td>NaN</td>\n      <td>45.145</td>\n    </tr>\n    <tr>\n      <th>47010</th>\n      <td>F8E3dQSDMaQtHbzUBxj2YU</td>\n      <td>18581</td>\n      <td>сеструха</td>\n      <td>1</td>\n      <td>2</td>\n      <td>1</td>\n      <td>2023-04-03 18:05:50</td>\n      <td>44.978</td>\n      <td>45.037</td>\n      <td>series</td>\n      <td>...</td>\n      <td>2023-02-03</td>\n      <td>NaT</td>\n      <td>1</td>\n      <td>False</td>\n      <td>0.977778</td>\n      <td>True</td>\n      <td>Eve</td>\n      <td>59</td>\n      <td>NaN</td>\n      <td>44.978</td>\n    </tr>\n    <tr>\n      <th>...</th>\n      <td>...</td>\n      <td>...</td>\n      <td>...</td>\n      <td>...</td>\n      <td>...</td>\n      <td>...</td>\n      <td>...</td>\n      <td>...</td>\n      <td>...</td>\n      <td>...</td>\n      <td>...</td>\n      <td>...</td>\n      <td>...</td>\n      <td>...</td>\n      <td>...</td>\n      <td>...</td>\n      <td>...</td>\n      <td>...</td>\n      <td>...</td>\n      <td>...</td>\n      <td>...</td>\n    </tr>\n    <tr>\n      <th>62568</th>\n      <td>F8E3dQSDMaQtHbzUBxj2YU</td>\n      <td>20400</td>\n      <td>мой брат  робот</td>\n      <td>0</td>\n      <td>0</td>\n      <td>1</td>\n      <td>2023-04-27 09:26:47</td>\n      <td>45.119</td>\n      <td>80.700</td>\n      <td>movie</td>\n      <td>...</td>\n      <td>2023-03-24</td>\n      <td>0 days 01:11:06</td>\n      <td>12647</td>\n      <td>False</td>\n      <td>0.562500</td>\n      <td>False</td>\n      <td>Morning</td>\n      <td>34</td>\n      <td>NaN</td>\n      <td>135.196</td>\n    </tr>\n    <tr>\n      <th>62567</th>\n      <td>F8E3dQSDMaQtHbzUBxj2YU</td>\n      <td>20415</td>\n      <td>ангела</td>\n      <td>0</td>\n      <td>0</td>\n      <td>1</td>\n      <td>2023-04-27 20:16:51</td>\n      <td>45.081</td>\n      <td>87.000</td>\n      <td>movie</td>\n      <td>...</td>\n      <td>1970-01-01</td>\n      <td>NaT</td>\n      <td>1</td>\n      <td>False</td>\n      <td>0.517241</td>\n      <td>False</td>\n      <td>Eve</td>\n      <td>19474</td>\n      <td>NaN</td>\n      <td>45.081</td>\n    </tr>\n    <tr>\n      <th>62575</th>\n      <td>F8E3dQSDMaQtHbzUBxj2YU</td>\n      <td>10470</td>\n      <td>хеллбой</td>\n      <td>0</td>\n      <td>0</td>\n      <td>1</td>\n      <td>2023-04-27 20:22:47</td>\n      <td>114.900</td>\n      <td>115.800</td>\n      <td>movie</td>\n      <td>...</td>\n      <td>2020-05-27</td>\n      <td>NaT</td>\n      <td>1</td>\n      <td>False</td>\n      <td>0.991304</td>\n      <td>True</td>\n      <td>Eve</td>\n      <td>1065</td>\n      <td>NaN</td>\n      <td>114.900</td>\n    </tr>\n    <tr>\n      <th>35881</th>\n      <td>F8E3dQSDMaQtHbzUBxj2YU</td>\n      <td>4080</td>\n      <td>ольга</td>\n      <td>5</td>\n      <td>13</td>\n      <td>1</td>\n      <td>2023-04-28 06:08:22</td>\n      <td>22.000</td>\n      <td>23.000</td>\n      <td>series</td>\n      <td>...</td>\n      <td>2023-04-10</td>\n      <td>0 days 23:37:47</td>\n      <td>1</td>\n      <td>False</td>\n      <td>0.956522</td>\n      <td>True</td>\n      <td>Early Morning</td>\n      <td>18</td>\n      <td>NaN</td>\n      <td>22.000</td>\n    </tr>\n    <tr>\n      <th>35880</th>\n      <td>F8E3dQSDMaQtHbzUBxj2YU</td>\n      <td>20473</td>\n      <td>на дне 2023</td>\n      <td>1</td>\n      <td>0</td>\n      <td>1</td>\n      <td>2023-04-28 06:31:08</td>\n      <td>45.078</td>\n      <td>45.078</td>\n      <td>series</td>\n      <td>...</td>\n      <td>2023-04-27</td>\n      <td>NaT</td>\n      <td>1</td>\n      <td>False</td>\n      <td>1.000000</td>\n      <td>True</td>\n      <td>Early Morning</td>\n      <td>1</td>\n      <td>NaN</td>\n      <td>45.078</td>\n    </tr>\n  </tbody>\n</table>\n<p>211 rows × 29 columns</p>\n</div>"
     },
     "execution_count": 33,
     "metadata": {},
     "output_type": "execute_result"
    }
   ],
   "source": [
    "df[df.passport_id == 'F8E3dQSDMaQtHbzUBxj2YU'].sort_values('ts_start')"
   ],
   "metadata": {
    "collapsed": false
   }
  },
  {
   "cell_type": "code",
   "execution_count": 34,
   "outputs": [],
   "source": [
    "# Добавим новое поле для сезона и эпизода\n",
    "df['season_episode'] = 's' + df['season_num'].astype(str) + 'e' + df['episode_num'].astype(str)"
   ],
   "metadata": {
    "collapsed": false
   }
  },
  {
   "cell_type": "code",
   "execution_count": null,
   "outputs": [],
   "source": [
    "df.to_csv('views.csv')"
   ],
   "metadata": {
    "collapsed": false
   }
  },
  {
   "cell_type": "code",
   "execution_count": 35,
   "outputs": [
    {
     "data": {
      "text/plain": "                   passport_id  tv_id                      title_ru  \\\n394     131JqdtikiJcDH8Ywb9idv   4080                         ольга   \n388     131JqdtikiJcDH8Ywb9idv   4080                         ольга   \n393     131JqdtikiJcDH8Ywb9idv   4080                         ольга   \n391     131JqdtikiJcDH8Ywb9idv   4080                         ольга   \n387     131JqdtikiJcDH8Ywb9idv   4080                         ольга   \n...                        ...    ...                           ...   \n113330   uvQW7QMEwjoqzHikUwytE  11873  нежные листья ядовитые корни   \n113327   uvQW7QMEwjoqzHikUwytE  13216      комната старинных ключей   \n96859    uvQW7QMEwjoqzHikUwytE  13216      комната старинных ключей   \n96858    uvQW7QMEwjoqzHikUwytE  13216      комната старинных ключей   \n96860    uvQW7QMEwjoqzHikUwytE  13216      комната старинных ключей   \n\n        season_num  episode_num  subscription_flg            ts_start  \\\n394              5            1                 1 2023-04-15 01:13:10   \n388              5            2                 1 2023-04-15 01:37:32   \n393              5            2                 1 2023-04-15 02:01:37   \n391              5            3                 1 2023-04-15 14:23:42   \n387              5            4                 1 2023-04-15 14:47:52   \n...            ...          ...               ...                 ...   \n113330           1            4                 1 2023-04-29 16:56:06   \n113327           1            1                 1 2023-04-29 18:22:30   \n96859            1            1                 1 2023-04-30 14:58:49   \n96858            1            2                 1 2023-04-30 15:34:42   \n96860            1            2                 1 2023-04-30 18:15:57   \n\n        view_durations_m  video_durations_m content_type  ...       time_diff  \\\n394               45.034             45.130       series  ...             NaT   \n388               44.992             45.158       series  ... 0 days 00:24:22   \n393               13.000             45.158       series  ... 0 days 00:24:05   \n391               45.095             45.127       series  ... 0 days 12:22:05   \n387               45.000             45.093       series  ... 0 days 00:24:10   \n...                  ...                ...          ...  ...             ...   \n113330            43.900             47.100       series  ... 0 days 00:18:32   \n113327            45.097             48.100       series  ...             NaT   \n96859             25.000             48.100       series  ... 0 days 20:36:19   \n96858             45.088             47.200       series  ... 0 days 00:35:53   \n96860             27.000             47.200       series  ... 0 days 02:41:15   \n\n       view_number ever_subscribed view_duration_ratio is_viewed_to_end  \\\n394              1           False            1.000000             True   \n388              2           False            0.977778             True   \n393              2           False            0.288889            False   \n391              1           False            1.000000             True   \n387              3           False            1.000000             True   \n...            ...             ...                 ...              ...   \n113330       32436            True            0.914894             True   \n113327           1            True            0.937500             True   \n96859            1            True            0.520833            False   \n96858        32438            True            0.957447             True   \n96860            1            True            0.574468            False   \n\n       part_of_day  diff_days_between_premier  \\\n394     Late Night                          5   \n388     Late Night                          5   \n393     Late Night                          5   \n391           Noon                          5   \n387           Noon                          5   \n...            ...                        ...   \n113330        Noon                       1061   \n113327         Eve                        932   \n96859         Noon                        933   \n96858         Noon                        933   \n96860          Eve                        933   \n\n       diff_days_between_payed_and_registration sum_by_user_and_series  \\\n394                                         NaN                 45.034   \n388                                         NaN                 57.992   \n393                                         NaN                 57.992   \n391                                         NaN                 45.095   \n387                                         NaN                 45.000   \n...                                         ...                    ...   \n113330                                   1481.0                 43.900   \n113327                                   1481.0                 70.097   \n96859                                    1481.0                 70.097   \n96858                                    1481.0                 72.088   \n96860                                    1481.0                 72.088   \n\n       season_episode  \n394              s5e1  \n388              s5e2  \n393              s5e2  \n391              s5e3  \n387              s5e4  \n...               ...  \n113330           s1e4  \n113327           s1e1  \n96859            s1e1  \n96858            s1e2  \n96860            s1e2  \n\n[93313 rows x 30 columns]",
      "text/html": "<div>\n<style scoped>\n    .dataframe tbody tr th:only-of-type {\n        vertical-align: middle;\n    }\n\n    .dataframe tbody tr th {\n        vertical-align: top;\n    }\n\n    .dataframe thead th {\n        text-align: right;\n    }\n</style>\n<table border=\"1\" class=\"dataframe\">\n  <thead>\n    <tr style=\"text-align: right;\">\n      <th></th>\n      <th>passport_id</th>\n      <th>tv_id</th>\n      <th>title_ru</th>\n      <th>season_num</th>\n      <th>episode_num</th>\n      <th>subscription_flg</th>\n      <th>ts_start</th>\n      <th>view_durations_m</th>\n      <th>video_durations_m</th>\n      <th>content_type</th>\n      <th>...</th>\n      <th>time_diff</th>\n      <th>view_number</th>\n      <th>ever_subscribed</th>\n      <th>view_duration_ratio</th>\n      <th>is_viewed_to_end</th>\n      <th>part_of_day</th>\n      <th>diff_days_between_premier</th>\n      <th>diff_days_between_payed_and_registration</th>\n      <th>sum_by_user_and_series</th>\n      <th>season_episode</th>\n    </tr>\n  </thead>\n  <tbody>\n    <tr>\n      <th>394</th>\n      <td>131JqdtikiJcDH8Ywb9idv</td>\n      <td>4080</td>\n      <td>ольга</td>\n      <td>5</td>\n      <td>1</td>\n      <td>1</td>\n      <td>2023-04-15 01:13:10</td>\n      <td>45.034</td>\n      <td>45.130</td>\n      <td>series</td>\n      <td>...</td>\n      <td>NaT</td>\n      <td>1</td>\n      <td>False</td>\n      <td>1.000000</td>\n      <td>True</td>\n      <td>Late Night</td>\n      <td>5</td>\n      <td>NaN</td>\n      <td>45.034</td>\n      <td>s5e1</td>\n    </tr>\n    <tr>\n      <th>388</th>\n      <td>131JqdtikiJcDH8Ywb9idv</td>\n      <td>4080</td>\n      <td>ольга</td>\n      <td>5</td>\n      <td>2</td>\n      <td>1</td>\n      <td>2023-04-15 01:37:32</td>\n      <td>44.992</td>\n      <td>45.158</td>\n      <td>series</td>\n      <td>...</td>\n      <td>0 days 00:24:22</td>\n      <td>2</td>\n      <td>False</td>\n      <td>0.977778</td>\n      <td>True</td>\n      <td>Late Night</td>\n      <td>5</td>\n      <td>NaN</td>\n      <td>57.992</td>\n      <td>s5e2</td>\n    </tr>\n    <tr>\n      <th>393</th>\n      <td>131JqdtikiJcDH8Ywb9idv</td>\n      <td>4080</td>\n      <td>ольга</td>\n      <td>5</td>\n      <td>2</td>\n      <td>1</td>\n      <td>2023-04-15 02:01:37</td>\n      <td>13.000</td>\n      <td>45.158</td>\n      <td>series</td>\n      <td>...</td>\n      <td>0 days 00:24:05</td>\n      <td>2</td>\n      <td>False</td>\n      <td>0.288889</td>\n      <td>False</td>\n      <td>Late Night</td>\n      <td>5</td>\n      <td>NaN</td>\n      <td>57.992</td>\n      <td>s5e2</td>\n    </tr>\n    <tr>\n      <th>391</th>\n      <td>131JqdtikiJcDH8Ywb9idv</td>\n      <td>4080</td>\n      <td>ольга</td>\n      <td>5</td>\n      <td>3</td>\n      <td>1</td>\n      <td>2023-04-15 14:23:42</td>\n      <td>45.095</td>\n      <td>45.127</td>\n      <td>series</td>\n      <td>...</td>\n      <td>0 days 12:22:05</td>\n      <td>1</td>\n      <td>False</td>\n      <td>1.000000</td>\n      <td>True</td>\n      <td>Noon</td>\n      <td>5</td>\n      <td>NaN</td>\n      <td>45.095</td>\n      <td>s5e3</td>\n    </tr>\n    <tr>\n      <th>387</th>\n      <td>131JqdtikiJcDH8Ywb9idv</td>\n      <td>4080</td>\n      <td>ольга</td>\n      <td>5</td>\n      <td>4</td>\n      <td>1</td>\n      <td>2023-04-15 14:47:52</td>\n      <td>45.000</td>\n      <td>45.093</td>\n      <td>series</td>\n      <td>...</td>\n      <td>0 days 00:24:10</td>\n      <td>3</td>\n      <td>False</td>\n      <td>1.000000</td>\n      <td>True</td>\n      <td>Noon</td>\n      <td>5</td>\n      <td>NaN</td>\n      <td>45.000</td>\n      <td>s5e4</td>\n    </tr>\n    <tr>\n      <th>...</th>\n      <td>...</td>\n      <td>...</td>\n      <td>...</td>\n      <td>...</td>\n      <td>...</td>\n      <td>...</td>\n      <td>...</td>\n      <td>...</td>\n      <td>...</td>\n      <td>...</td>\n      <td>...</td>\n      <td>...</td>\n      <td>...</td>\n      <td>...</td>\n      <td>...</td>\n      <td>...</td>\n      <td>...</td>\n      <td>...</td>\n      <td>...</td>\n      <td>...</td>\n      <td>...</td>\n    </tr>\n    <tr>\n      <th>113330</th>\n      <td>uvQW7QMEwjoqzHikUwytE</td>\n      <td>11873</td>\n      <td>нежные листья ядовитые корни</td>\n      <td>1</td>\n      <td>4</td>\n      <td>1</td>\n      <td>2023-04-29 16:56:06</td>\n      <td>43.900</td>\n      <td>47.100</td>\n      <td>series</td>\n      <td>...</td>\n      <td>0 days 00:18:32</td>\n      <td>32436</td>\n      <td>True</td>\n      <td>0.914894</td>\n      <td>True</td>\n      <td>Noon</td>\n      <td>1061</td>\n      <td>1481.0</td>\n      <td>43.900</td>\n      <td>s1e4</td>\n    </tr>\n    <tr>\n      <th>113327</th>\n      <td>uvQW7QMEwjoqzHikUwytE</td>\n      <td>13216</td>\n      <td>комната старинных ключей</td>\n      <td>1</td>\n      <td>1</td>\n      <td>1</td>\n      <td>2023-04-29 18:22:30</td>\n      <td>45.097</td>\n      <td>48.100</td>\n      <td>series</td>\n      <td>...</td>\n      <td>NaT</td>\n      <td>1</td>\n      <td>True</td>\n      <td>0.937500</td>\n      <td>True</td>\n      <td>Eve</td>\n      <td>932</td>\n      <td>1481.0</td>\n      <td>70.097</td>\n      <td>s1e1</td>\n    </tr>\n    <tr>\n      <th>96859</th>\n      <td>uvQW7QMEwjoqzHikUwytE</td>\n      <td>13216</td>\n      <td>комната старинных ключей</td>\n      <td>1</td>\n      <td>1</td>\n      <td>1</td>\n      <td>2023-04-30 14:58:49</td>\n      <td>25.000</td>\n      <td>48.100</td>\n      <td>series</td>\n      <td>...</td>\n      <td>0 days 20:36:19</td>\n      <td>1</td>\n      <td>True</td>\n      <td>0.520833</td>\n      <td>False</td>\n      <td>Noon</td>\n      <td>933</td>\n      <td>1481.0</td>\n      <td>70.097</td>\n      <td>s1e1</td>\n    </tr>\n    <tr>\n      <th>96858</th>\n      <td>uvQW7QMEwjoqzHikUwytE</td>\n      <td>13216</td>\n      <td>комната старинных ключей</td>\n      <td>1</td>\n      <td>2</td>\n      <td>1</td>\n      <td>2023-04-30 15:34:42</td>\n      <td>45.088</td>\n      <td>47.200</td>\n      <td>series</td>\n      <td>...</td>\n      <td>0 days 00:35:53</td>\n      <td>32438</td>\n      <td>True</td>\n      <td>0.957447</td>\n      <td>True</td>\n      <td>Noon</td>\n      <td>933</td>\n      <td>1481.0</td>\n      <td>72.088</td>\n      <td>s1e2</td>\n    </tr>\n    <tr>\n      <th>96860</th>\n      <td>uvQW7QMEwjoqzHikUwytE</td>\n      <td>13216</td>\n      <td>комната старинных ключей</td>\n      <td>1</td>\n      <td>2</td>\n      <td>1</td>\n      <td>2023-04-30 18:15:57</td>\n      <td>27.000</td>\n      <td>47.200</td>\n      <td>series</td>\n      <td>...</td>\n      <td>0 days 02:41:15</td>\n      <td>1</td>\n      <td>True</td>\n      <td>0.574468</td>\n      <td>False</td>\n      <td>Eve</td>\n      <td>933</td>\n      <td>1481.0</td>\n      <td>72.088</td>\n      <td>s1e2</td>\n    </tr>\n  </tbody>\n</table>\n<p>93313 rows × 30 columns</p>\n</div>"
     },
     "execution_count": 35,
     "metadata": {},
     "output_type": "execute_result"
    }
   ],
   "source": [
    "df"
   ],
   "metadata": {
    "collapsed": false
   }
  },
  {
   "cell_type": "code",
   "execution_count": null,
   "outputs": [],
   "source": [
    "engine = create_engine(os.environ.get('CONN_STRING', None))\n",
    "df.to_sql(name='views', con=engine, schema='gpm', if_exists='replace', index=False)"
   ],
   "metadata": {
    "collapsed": false
   }
  },
  {
   "cell_type": "code",
   "execution_count": null,
   "outputs": [],
   "source": [],
   "metadata": {
    "collapsed": false
   }
  }
 ],
 "metadata": {
  "kernelspec": {
   "display_name": "Python 3",
   "language": "python",
   "name": "python3"
  },
  "language_info": {
   "codemirror_mode": {
    "name": "ipython",
    "version": 2
   },
   "file_extension": ".py",
   "mimetype": "text/x-python",
   "name": "python",
   "nbconvert_exporter": "python",
   "pygments_lexer": "ipython2",
   "version": "2.7.6"
  }
 },
 "nbformat": 4,
 "nbformat_minor": 0
}
