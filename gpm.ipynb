{
 "cells": [
  {
   "cell_type": "code",
   "execution_count": 1,
   "metadata": {
    "collapsed": true
   },
   "outputs": [],
   "source": [
    "import os\n",
    "from datetime import timedelta\n",
    "\n",
    "import pandas as pd\n",
    "from dotenv import load_dotenv\n",
    "from sqlalchemy import create_engine\n",
    "from tqdm.auto import tqdm\n",
    "\n",
    "tqdm.pandas()"
   ]
  },
  {
   "cell_type": "code",
   "execution_count": 2,
   "outputs": [
    {
     "data": {
      "text/plain": "True"
     },
     "execution_count": 2,
     "metadata": {},
     "output_type": "execute_result"
    }
   ],
   "source": [
    "load_dotenv()"
   ],
   "metadata": {
    "collapsed": false
   }
  },
  {
   "cell_type": "code",
   "execution_count": 5,
   "outputs": [],
   "source": [
    "path = 'premalt_636_result_temp.xlsx'"
   ],
   "metadata": {
    "collapsed": false
   }
  },
  {
   "cell_type": "code",
   "execution_count": 6,
   "outputs": [
    {
     "name": "stdout",
     "output_type": "stream",
     "text": [
      "CPU times: user 10.9 s, sys: 113 ms, total: 11 s\n",
      "Wall time: 11.4 s\n"
     ]
    }
   ],
   "source": [
    "%%time\n",
    "# Загрузка файлов\n",
    "\n",
    "df = pd.read_excel(io=path)"
   ],
   "metadata": {
    "collapsed": false
   }
  },
  {
   "cell_type": "code",
   "execution_count": 12,
   "outputs": [
    {
     "data": {
      "text/plain": "              passport_id  tv_id         title_ru  season_num  episode_num  \\\n0   1CWK664S87arvh5ER6qrL   4080            ольга           5            8   \n1   1CWK664S87arvh5ER6qrL   4080            ольга           5            0   \n2   1CWK664S87arvh5ER6qrL  13625  училки в законе           2           18   \n3   1CWK664S87arvh5ER6qrL  13625  училки в законе           2           17   \n4   1GHKRRjyJnYgRg9ECHT5L  14892          невский           6           11   \n5   1GHKRRjyJnYgRg9ECHT5L  14892          невский           6           12   \n6   1GHKRRjyJnYgRg9ECHT5L  14892          невский           6           10   \n7   1pXh82iKpkSHAqenDBxpT   4080            ольга           5            8   \n8  131JqdtikiJcDH8Ywb9idv   4080            ольга           5           13   \n9  21LoobBEtWWyENFPHRGwYq  20584         нюрнберг           0            0   \n\n   subscription_flg            ts_start  view_durations_m  video_durations_m  \\\n0                 1 2023-04-20 11:25:35           45036.0            45006.0   \n1                 1 2023-04-20 11:25:26               0.0                0.6   \n2                 1 2023-04-20 09:53:37           45097.0            45038.0   \n3                 1 2023-04-20 09:53:28               0.1            45039.0   \n4                 1 2023-04-20 21:22:07              46.7               48.6   \n5                 1 2023-04-20 22:09:42           45164.0               48.0   \n6                 1 2023-04-20 20:24:36              48.9               50.9   \n7                 1 2023-04-20 08:32:33           45189.0            45006.0   \n8                 1 2023-04-28 21:23:51               0.0               23.0   \n9                 1 2023-04-20 18:56:01              32.3              124.9   \n\n  content_type subscription_kind   view_type  \\\n0       series               sub     app-ios   \n1       series               sub     app-ios   \n2       series               sub     app-ios   \n3       series               sub     app-ios   \n4       series               sub      web-pc   \n5       series               sub      web-pc   \n6       series               sub      web-pc   \n7       series               sub      web-pc   \n8       series      sub_discount  web-mobile   \n9        movie               sub  web-mobile   \n\n                       uma_video_id  \\\n0  e5a5f6430282ce3464b838601ea1fb89   \n1  5820d44844aa3748baddf39fcd6374f9   \n2  64adf8242ea5d5dfd6149180d487bcf6   \n3  79fa8e090ad287a5ba77a7e497dedd18   \n4  26ea0d39a01c5025a2a23792a783665c   \n5  2ba0150f51f9a1883095a49e79b9f67b   \n6  9e704273c3c292ec6c6380e081376ab1   \n7  e5a5f6430282ce3464b838601ea1fb89   \n8  e7936c716300762a3514143238cf9610   \n9  0222df22348f7d339591c7b0448285c9   \n\n                                       genre_names genre_main  \\\n0                                        'Комедия'    Комедия   \n1                                        'Комедия'    Комедия   \n2                                        'Комедия'    Комедия   \n3                                        'Комедия'    Комедия   \n4           [''Боевик'',''Детектив'',''Криминал'']   Детектив   \n5           [''Боевик'',''Детектив'',''Криминал'']   Детектив   \n6           [''Боевик'',''Детектив'',''Криминал'']   Детектив   \n7                                        'Комедия'    Комедия   \n8                                        'Комедия'    Комедия   \n9  [''Военный'',''Драма'',''История'',''Триллер'']      Драма   \n\n             director  kp_rating   registration_date last_payed_sub_start_ts  \\\n0       Игорь Волошин      6.489 2018-08-27 17:53:04     2023-10-02 11:38:46   \n1       Игорь Волошин      6.489 2018-08-27 17:53:04     2023-10-02 11:38:46   \n2  Константин Колесов      6.618 2018-08-27 17:53:04     2023-10-02 11:38:46   \n3  Константин Колесов      6.618 2018-08-27 17:53:04     2023-10-02 11:38:46   \n4    Андрей Коршунов      7.937 2022-04-19 19:25:45     2023-05-25 22:00:27   \n5    Андрей Коршунов      7.937 2022-04-19 19:25:45     2023-05-25 22:00:27   \n6    Андрей Коршунов      7.937 2022-04-19 19:25:45     2023-05-25 22:00:27   \n7       Игорь Волошин      6.489 2019-10-14 23:50:16     2023-10-18 11:11:14   \n8       Игорь Волошин      6.489 2021-01-06 05:58:49     1970-01-01 03:00:00   \n9     Николай Лебедев      6.007 2020-09-03 20:11:28     2023-10-10 16:31:10   \n\n  premiere_dt  \n0  2023-04-10  \n1  2023-04-10  \n2  2021-10-14  \n3  2021-10-14  \n4  2023-04-10  \n5  2023-04-10  \n6  2023-04-10  \n7  2023-04-10  \n8  2023-04-10  \n9  2023-04-20  ",
      "text/html": "<div>\n<style scoped>\n    .dataframe tbody tr th:only-of-type {\n        vertical-align: middle;\n    }\n\n    .dataframe tbody tr th {\n        vertical-align: top;\n    }\n\n    .dataframe thead th {\n        text-align: right;\n    }\n</style>\n<table border=\"1\" class=\"dataframe\">\n  <thead>\n    <tr style=\"text-align: right;\">\n      <th></th>\n      <th>passport_id</th>\n      <th>tv_id</th>\n      <th>title_ru</th>\n      <th>season_num</th>\n      <th>episode_num</th>\n      <th>subscription_flg</th>\n      <th>ts_start</th>\n      <th>view_durations_m</th>\n      <th>video_durations_m</th>\n      <th>content_type</th>\n      <th>subscription_kind</th>\n      <th>view_type</th>\n      <th>uma_video_id</th>\n      <th>genre_names</th>\n      <th>genre_main</th>\n      <th>director</th>\n      <th>kp_rating</th>\n      <th>registration_date</th>\n      <th>last_payed_sub_start_ts</th>\n      <th>premiere_dt</th>\n    </tr>\n  </thead>\n  <tbody>\n    <tr>\n      <th>0</th>\n      <td>1CWK664S87arvh5ER6qrL</td>\n      <td>4080</td>\n      <td>ольга</td>\n      <td>5</td>\n      <td>8</td>\n      <td>1</td>\n      <td>2023-04-20 11:25:35</td>\n      <td>45036.0</td>\n      <td>45006.0</td>\n      <td>series</td>\n      <td>sub</td>\n      <td>app-ios</td>\n      <td>e5a5f6430282ce3464b838601ea1fb89</td>\n      <td>'Комедия'</td>\n      <td>Комедия</td>\n      <td>Игорь Волошин</td>\n      <td>6.489</td>\n      <td>2018-08-27 17:53:04</td>\n      <td>2023-10-02 11:38:46</td>\n      <td>2023-04-10</td>\n    </tr>\n    <tr>\n      <th>1</th>\n      <td>1CWK664S87arvh5ER6qrL</td>\n      <td>4080</td>\n      <td>ольга</td>\n      <td>5</td>\n      <td>0</td>\n      <td>1</td>\n      <td>2023-04-20 11:25:26</td>\n      <td>0.0</td>\n      <td>0.6</td>\n      <td>series</td>\n      <td>sub</td>\n      <td>app-ios</td>\n      <td>5820d44844aa3748baddf39fcd6374f9</td>\n      <td>'Комедия'</td>\n      <td>Комедия</td>\n      <td>Игорь Волошин</td>\n      <td>6.489</td>\n      <td>2018-08-27 17:53:04</td>\n      <td>2023-10-02 11:38:46</td>\n      <td>2023-04-10</td>\n    </tr>\n    <tr>\n      <th>2</th>\n      <td>1CWK664S87arvh5ER6qrL</td>\n      <td>13625</td>\n      <td>училки в законе</td>\n      <td>2</td>\n      <td>18</td>\n      <td>1</td>\n      <td>2023-04-20 09:53:37</td>\n      <td>45097.0</td>\n      <td>45038.0</td>\n      <td>series</td>\n      <td>sub</td>\n      <td>app-ios</td>\n      <td>64adf8242ea5d5dfd6149180d487bcf6</td>\n      <td>'Комедия'</td>\n      <td>Комедия</td>\n      <td>Константин Колесов</td>\n      <td>6.618</td>\n      <td>2018-08-27 17:53:04</td>\n      <td>2023-10-02 11:38:46</td>\n      <td>2021-10-14</td>\n    </tr>\n    <tr>\n      <th>3</th>\n      <td>1CWK664S87arvh5ER6qrL</td>\n      <td>13625</td>\n      <td>училки в законе</td>\n      <td>2</td>\n      <td>17</td>\n      <td>1</td>\n      <td>2023-04-20 09:53:28</td>\n      <td>0.1</td>\n      <td>45039.0</td>\n      <td>series</td>\n      <td>sub</td>\n      <td>app-ios</td>\n      <td>79fa8e090ad287a5ba77a7e497dedd18</td>\n      <td>'Комедия'</td>\n      <td>Комедия</td>\n      <td>Константин Колесов</td>\n      <td>6.618</td>\n      <td>2018-08-27 17:53:04</td>\n      <td>2023-10-02 11:38:46</td>\n      <td>2021-10-14</td>\n    </tr>\n    <tr>\n      <th>4</th>\n      <td>1GHKRRjyJnYgRg9ECHT5L</td>\n      <td>14892</td>\n      <td>невский</td>\n      <td>6</td>\n      <td>11</td>\n      <td>1</td>\n      <td>2023-04-20 21:22:07</td>\n      <td>46.7</td>\n      <td>48.6</td>\n      <td>series</td>\n      <td>sub</td>\n      <td>web-pc</td>\n      <td>26ea0d39a01c5025a2a23792a783665c</td>\n      <td>[''Боевик'',''Детектив'',''Криминал'']</td>\n      <td>Детектив</td>\n      <td>Андрей Коршунов</td>\n      <td>7.937</td>\n      <td>2022-04-19 19:25:45</td>\n      <td>2023-05-25 22:00:27</td>\n      <td>2023-04-10</td>\n    </tr>\n    <tr>\n      <th>5</th>\n      <td>1GHKRRjyJnYgRg9ECHT5L</td>\n      <td>14892</td>\n      <td>невский</td>\n      <td>6</td>\n      <td>12</td>\n      <td>1</td>\n      <td>2023-04-20 22:09:42</td>\n      <td>45164.0</td>\n      <td>48.0</td>\n      <td>series</td>\n      <td>sub</td>\n      <td>web-pc</td>\n      <td>2ba0150f51f9a1883095a49e79b9f67b</td>\n      <td>[''Боевик'',''Детектив'',''Криминал'']</td>\n      <td>Детектив</td>\n      <td>Андрей Коршунов</td>\n      <td>7.937</td>\n      <td>2022-04-19 19:25:45</td>\n      <td>2023-05-25 22:00:27</td>\n      <td>2023-04-10</td>\n    </tr>\n    <tr>\n      <th>6</th>\n      <td>1GHKRRjyJnYgRg9ECHT5L</td>\n      <td>14892</td>\n      <td>невский</td>\n      <td>6</td>\n      <td>10</td>\n      <td>1</td>\n      <td>2023-04-20 20:24:36</td>\n      <td>48.9</td>\n      <td>50.9</td>\n      <td>series</td>\n      <td>sub</td>\n      <td>web-pc</td>\n      <td>9e704273c3c292ec6c6380e081376ab1</td>\n      <td>[''Боевик'',''Детектив'',''Криминал'']</td>\n      <td>Детектив</td>\n      <td>Андрей Коршунов</td>\n      <td>7.937</td>\n      <td>2022-04-19 19:25:45</td>\n      <td>2023-05-25 22:00:27</td>\n      <td>2023-04-10</td>\n    </tr>\n    <tr>\n      <th>7</th>\n      <td>1pXh82iKpkSHAqenDBxpT</td>\n      <td>4080</td>\n      <td>ольга</td>\n      <td>5</td>\n      <td>8</td>\n      <td>1</td>\n      <td>2023-04-20 08:32:33</td>\n      <td>45189.0</td>\n      <td>45006.0</td>\n      <td>series</td>\n      <td>sub</td>\n      <td>web-pc</td>\n      <td>e5a5f6430282ce3464b838601ea1fb89</td>\n      <td>'Комедия'</td>\n      <td>Комедия</td>\n      <td>Игорь Волошин</td>\n      <td>6.489</td>\n      <td>2019-10-14 23:50:16</td>\n      <td>2023-10-18 11:11:14</td>\n      <td>2023-04-10</td>\n    </tr>\n    <tr>\n      <th>8</th>\n      <td>131JqdtikiJcDH8Ywb9idv</td>\n      <td>4080</td>\n      <td>ольга</td>\n      <td>5</td>\n      <td>13</td>\n      <td>1</td>\n      <td>2023-04-28 21:23:51</td>\n      <td>0.0</td>\n      <td>23.0</td>\n      <td>series</td>\n      <td>sub_discount</td>\n      <td>web-mobile</td>\n      <td>e7936c716300762a3514143238cf9610</td>\n      <td>'Комедия'</td>\n      <td>Комедия</td>\n      <td>Игорь Волошин</td>\n      <td>6.489</td>\n      <td>2021-01-06 05:58:49</td>\n      <td>1970-01-01 03:00:00</td>\n      <td>2023-04-10</td>\n    </tr>\n    <tr>\n      <th>9</th>\n      <td>21LoobBEtWWyENFPHRGwYq</td>\n      <td>20584</td>\n      <td>нюрнберг</td>\n      <td>0</td>\n      <td>0</td>\n      <td>1</td>\n      <td>2023-04-20 18:56:01</td>\n      <td>32.3</td>\n      <td>124.9</td>\n      <td>movie</td>\n      <td>sub</td>\n      <td>web-mobile</td>\n      <td>0222df22348f7d339591c7b0448285c9</td>\n      <td>[''Военный'',''Драма'',''История'',''Триллер'']</td>\n      <td>Драма</td>\n      <td>Николай Лебедев</td>\n      <td>6.007</td>\n      <td>2020-09-03 20:11:28</td>\n      <td>2023-10-10 16:31:10</td>\n      <td>2023-04-20</td>\n    </tr>\n  </tbody>\n</table>\n</div>"
     },
     "execution_count": 12,
     "metadata": {},
     "output_type": "execute_result"
    }
   ],
   "source": [
    "df.head(10)"
   ],
   "metadata": {
    "collapsed": false
   }
  },
  {
   "cell_type": "code",
   "execution_count": 13,
   "outputs": [
    {
     "data": {
      "text/plain": "                  passport_id  tv_id               title_ru  season_num  \\\n126259  mt11K58BEqdTsQySnJgkY   8399                   тнт4           0   \n126260  pBdwsJvxoUUWdootvD13B   8754                   жуки           2   \n126261  pBdwsJvxoUUWdootvD13B   8754                   жуки           2   \n126262  pBdwsJvxoUUWdootvD13B   8754                   жуки           1   \n126263  pBdwsJvxoUUWdootvD13B   8754                   жуки           2   \n126264  ruHQrC7k7NvNQPrN15zyo  14892                невский           6   \n126265  ruHQrC7k7NvNQPrN15zyo  14892                невский           6   \n126266  upeT6waJujBnDrhmoiTYE  15223   музыкальная интуиция           3   \n126267  uvQW7QMEwjoqzHikUwytE  11033  рыцарь нашего времени           1   \n126268  uvQW7QMEwjoqzHikUwytE  11033  рыцарь нашего времени           1   \n\n        episode_num  subscription_flg            ts_start  view_durations_m  \\\n126259            0                 1 2023-04-18 14:28:13               0.0   \n126260            5                 1 2023-04-18 18:22:16              23.0   \n126261            4                 1 2023-04-18 17:59:35           45038.0   \n126262           17                 1 2023-04-18 17:37:30               0.0   \n126263            3                 1 2023-04-18 17:37:42           45032.0   \n126264           12                 1 2023-04-18 22:49:32              45.3   \n126265           11                 1 2023-04-18 20:50:36              47.2   \n126266            4                 1 2023-04-18 17:53:47              69.3   \n126267            3                 1 2023-04-18 14:28:24               0.0   \n126268            4                 1 2023-04-18 14:28:28           45166.0   \n\n        video_durations_m content_type subscription_kind      view_type  \\\n126259                0.0    broadcast               sub         web-pc   \n126260            45161.0       series               sub  app-androidtv   \n126261            44980.0       series               sub  app-androidtv   \n126262               23.0       series               sub  app-androidtv   \n126263            45009.0       series               sub  app-androidtv   \n126264               48.0       series               sub         app-lg   \n126265               48.6       series               sub         app-lg   \n126266               89.1         show             trial     web-mobile   \n126267               47.8       series               sub         web-pc   \n126268               45.2       series               sub         web-pc   \n\n                            uma_video_id  \\\n126259  b0200b6f7a08fb0aad4e1289f491d1ea   \n126260  3d5ad23592e66a8f6509c3ed534e4e7f   \n126261  1ccb01bc0bcaad9c3ce215de330818f3   \n126262  6f58b809b18f14b14702c55f91ab5f68   \n126263  104ed79f6bf2438479added32305c0dd   \n126264  2ba0150f51f9a1883095a49e79b9f67b   \n126265  26ea0d39a01c5025a2a23792a783665c   \n126266  896ab399891b323e1f9c1e7e54699045   \n126267  612460c80122b011e0eac3a3d6677d01   \n126268  765e595819db2ffe136fe94411526f69   \n\n                                   genre_names genre_main            director  \\\n126259                                     NaN        NaN                 NaN   \n126260                               'Комедия'    Комедия  Константин Смирнов   \n126261                               'Комедия'    Комедия  Константин Смирнов   \n126262                               'Комедия'    Комедия  Константин Смирнов   \n126263                               'Комедия'    Комедия  Константин Смирнов   \n126264  [''Боевик'',''Детектив'',''Криминал'']   Детектив    Андрей Коршунов   \n126265  [''Боевик'',''Детектив'',''Криминал'']   Детектив    Андрей Коршунов   \n126266                               'Игровой'    Игровой                 NaN   \n126267                              'Детектив'   Детектив     Вячеслав Лавров   \n126268                              'Детектив'   Детектив     Вячеслав Лавров   \n\n        kp_rating   registration_date last_payed_sub_start_ts premiere_dt  \n126259      0.000 2022-10-15 09:46:30     2023-09-25 12:03:01  2020-05-27  \n126260      7.751 2018-08-18 00:58:03     2023-10-06 16:56:11  2021-04-05  \n126261      7.751 2018-08-18 00:58:03     2023-10-06 16:56:11  2021-04-05  \n126262      7.751 2018-08-18 00:58:03     2023-10-06 16:56:11  2019-09-02  \n126263      7.751 2018-08-18 00:58:03     2023-10-06 16:56:11  2021-04-05  \n126264      7.937 2020-11-16 16:50:42     2023-06-02 13:52:03  2023-04-10  \n126265      7.937 2020-11-16 16:50:42     2023-06-02 13:52:03  2023-04-10  \n126266      7.123 2023-04-13 17:49:23     2023-09-10 05:56:08  2023-03-25  \n126267  43647.000 2019-09-01 15:32:25     2023-09-22 14:01:24  2020-09-17  \n126268  43647.000 2019-09-01 15:32:25     2023-09-22 14:01:24  2020-09-17  ",
      "text/html": "<div>\n<style scoped>\n    .dataframe tbody tr th:only-of-type {\n        vertical-align: middle;\n    }\n\n    .dataframe tbody tr th {\n        vertical-align: top;\n    }\n\n    .dataframe thead th {\n        text-align: right;\n    }\n</style>\n<table border=\"1\" class=\"dataframe\">\n  <thead>\n    <tr style=\"text-align: right;\">\n      <th></th>\n      <th>passport_id</th>\n      <th>tv_id</th>\n      <th>title_ru</th>\n      <th>season_num</th>\n      <th>episode_num</th>\n      <th>subscription_flg</th>\n      <th>ts_start</th>\n      <th>view_durations_m</th>\n      <th>video_durations_m</th>\n      <th>content_type</th>\n      <th>subscription_kind</th>\n      <th>view_type</th>\n      <th>uma_video_id</th>\n      <th>genre_names</th>\n      <th>genre_main</th>\n      <th>director</th>\n      <th>kp_rating</th>\n      <th>registration_date</th>\n      <th>last_payed_sub_start_ts</th>\n      <th>premiere_dt</th>\n    </tr>\n  </thead>\n  <tbody>\n    <tr>\n      <th>126259</th>\n      <td>mt11K58BEqdTsQySnJgkY</td>\n      <td>8399</td>\n      <td>тнт4</td>\n      <td>0</td>\n      <td>0</td>\n      <td>1</td>\n      <td>2023-04-18 14:28:13</td>\n      <td>0.0</td>\n      <td>0.0</td>\n      <td>broadcast</td>\n      <td>sub</td>\n      <td>web-pc</td>\n      <td>b0200b6f7a08fb0aad4e1289f491d1ea</td>\n      <td>NaN</td>\n      <td>NaN</td>\n      <td>NaN</td>\n      <td>0.000</td>\n      <td>2022-10-15 09:46:30</td>\n      <td>2023-09-25 12:03:01</td>\n      <td>2020-05-27</td>\n    </tr>\n    <tr>\n      <th>126260</th>\n      <td>pBdwsJvxoUUWdootvD13B</td>\n      <td>8754</td>\n      <td>жуки</td>\n      <td>2</td>\n      <td>5</td>\n      <td>1</td>\n      <td>2023-04-18 18:22:16</td>\n      <td>23.0</td>\n      <td>45161.0</td>\n      <td>series</td>\n      <td>sub</td>\n      <td>app-androidtv</td>\n      <td>3d5ad23592e66a8f6509c3ed534e4e7f</td>\n      <td>'Комедия'</td>\n      <td>Комедия</td>\n      <td>Константин Смирнов</td>\n      <td>7.751</td>\n      <td>2018-08-18 00:58:03</td>\n      <td>2023-10-06 16:56:11</td>\n      <td>2021-04-05</td>\n    </tr>\n    <tr>\n      <th>126261</th>\n      <td>pBdwsJvxoUUWdootvD13B</td>\n      <td>8754</td>\n      <td>жуки</td>\n      <td>2</td>\n      <td>4</td>\n      <td>1</td>\n      <td>2023-04-18 17:59:35</td>\n      <td>45038.0</td>\n      <td>44980.0</td>\n      <td>series</td>\n      <td>sub</td>\n      <td>app-androidtv</td>\n      <td>1ccb01bc0bcaad9c3ce215de330818f3</td>\n      <td>'Комедия'</td>\n      <td>Комедия</td>\n      <td>Константин Смирнов</td>\n      <td>7.751</td>\n      <td>2018-08-18 00:58:03</td>\n      <td>2023-10-06 16:56:11</td>\n      <td>2021-04-05</td>\n    </tr>\n    <tr>\n      <th>126262</th>\n      <td>pBdwsJvxoUUWdootvD13B</td>\n      <td>8754</td>\n      <td>жуки</td>\n      <td>1</td>\n      <td>17</td>\n      <td>1</td>\n      <td>2023-04-18 17:37:30</td>\n      <td>0.0</td>\n      <td>23.0</td>\n      <td>series</td>\n      <td>sub</td>\n      <td>app-androidtv</td>\n      <td>6f58b809b18f14b14702c55f91ab5f68</td>\n      <td>'Комедия'</td>\n      <td>Комедия</td>\n      <td>Константин Смирнов</td>\n      <td>7.751</td>\n      <td>2018-08-18 00:58:03</td>\n      <td>2023-10-06 16:56:11</td>\n      <td>2019-09-02</td>\n    </tr>\n    <tr>\n      <th>126263</th>\n      <td>pBdwsJvxoUUWdootvD13B</td>\n      <td>8754</td>\n      <td>жуки</td>\n      <td>2</td>\n      <td>3</td>\n      <td>1</td>\n      <td>2023-04-18 17:37:42</td>\n      <td>45032.0</td>\n      <td>45009.0</td>\n      <td>series</td>\n      <td>sub</td>\n      <td>app-androidtv</td>\n      <td>104ed79f6bf2438479added32305c0dd</td>\n      <td>'Комедия'</td>\n      <td>Комедия</td>\n      <td>Константин Смирнов</td>\n      <td>7.751</td>\n      <td>2018-08-18 00:58:03</td>\n      <td>2023-10-06 16:56:11</td>\n      <td>2021-04-05</td>\n    </tr>\n    <tr>\n      <th>126264</th>\n      <td>ruHQrC7k7NvNQPrN15zyo</td>\n      <td>14892</td>\n      <td>невский</td>\n      <td>6</td>\n      <td>12</td>\n      <td>1</td>\n      <td>2023-04-18 22:49:32</td>\n      <td>45.3</td>\n      <td>48.0</td>\n      <td>series</td>\n      <td>sub</td>\n      <td>app-lg</td>\n      <td>2ba0150f51f9a1883095a49e79b9f67b</td>\n      <td>[''Боевик'',''Детектив'',''Криминал'']</td>\n      <td>Детектив</td>\n      <td>Андрей Коршунов</td>\n      <td>7.937</td>\n      <td>2020-11-16 16:50:42</td>\n      <td>2023-06-02 13:52:03</td>\n      <td>2023-04-10</td>\n    </tr>\n    <tr>\n      <th>126265</th>\n      <td>ruHQrC7k7NvNQPrN15zyo</td>\n      <td>14892</td>\n      <td>невский</td>\n      <td>6</td>\n      <td>11</td>\n      <td>1</td>\n      <td>2023-04-18 20:50:36</td>\n      <td>47.2</td>\n      <td>48.6</td>\n      <td>series</td>\n      <td>sub</td>\n      <td>app-lg</td>\n      <td>26ea0d39a01c5025a2a23792a783665c</td>\n      <td>[''Боевик'',''Детектив'',''Криминал'']</td>\n      <td>Детектив</td>\n      <td>Андрей Коршунов</td>\n      <td>7.937</td>\n      <td>2020-11-16 16:50:42</td>\n      <td>2023-06-02 13:52:03</td>\n      <td>2023-04-10</td>\n    </tr>\n    <tr>\n      <th>126266</th>\n      <td>upeT6waJujBnDrhmoiTYE</td>\n      <td>15223</td>\n      <td>музыкальная интуиция</td>\n      <td>3</td>\n      <td>4</td>\n      <td>1</td>\n      <td>2023-04-18 17:53:47</td>\n      <td>69.3</td>\n      <td>89.1</td>\n      <td>show</td>\n      <td>trial</td>\n      <td>web-mobile</td>\n      <td>896ab399891b323e1f9c1e7e54699045</td>\n      <td>'Игровой'</td>\n      <td>Игровой</td>\n      <td>NaN</td>\n      <td>7.123</td>\n      <td>2023-04-13 17:49:23</td>\n      <td>2023-09-10 05:56:08</td>\n      <td>2023-03-25</td>\n    </tr>\n    <tr>\n      <th>126267</th>\n      <td>uvQW7QMEwjoqzHikUwytE</td>\n      <td>11033</td>\n      <td>рыцарь нашего времени</td>\n      <td>1</td>\n      <td>3</td>\n      <td>1</td>\n      <td>2023-04-18 14:28:24</td>\n      <td>0.0</td>\n      <td>47.8</td>\n      <td>series</td>\n      <td>sub</td>\n      <td>web-pc</td>\n      <td>612460c80122b011e0eac3a3d6677d01</td>\n      <td>'Детектив'</td>\n      <td>Детектив</td>\n      <td>Вячеслав Лавров</td>\n      <td>43647.000</td>\n      <td>2019-09-01 15:32:25</td>\n      <td>2023-09-22 14:01:24</td>\n      <td>2020-09-17</td>\n    </tr>\n    <tr>\n      <th>126268</th>\n      <td>uvQW7QMEwjoqzHikUwytE</td>\n      <td>11033</td>\n      <td>рыцарь нашего времени</td>\n      <td>1</td>\n      <td>4</td>\n      <td>1</td>\n      <td>2023-04-18 14:28:28</td>\n      <td>45166.0</td>\n      <td>45.2</td>\n      <td>series</td>\n      <td>sub</td>\n      <td>web-pc</td>\n      <td>765e595819db2ffe136fe94411526f69</td>\n      <td>'Детектив'</td>\n      <td>Детектив</td>\n      <td>Вячеслав Лавров</td>\n      <td>43647.000</td>\n      <td>2019-09-01 15:32:25</td>\n      <td>2023-09-22 14:01:24</td>\n      <td>2020-09-17</td>\n    </tr>\n  </tbody>\n</table>\n</div>"
     },
     "execution_count": 13,
     "metadata": {},
     "output_type": "execute_result"
    }
   ],
   "source": [
    "df.tail(10)"
   ],
   "metadata": {
    "collapsed": false
   }
  },
  {
   "cell_type": "code",
   "execution_count": 8,
   "outputs": [
    {
     "data": {
      "text/plain": "               tv_id     season_num    episode_num  subscription_flg  \\\ncount  126269.000000  126269.000000  126269.000000     126269.000000   \nmean    11532.195955       7.016370      12.096817          0.957781   \nmin         7.000000       0.000000       0.000000          0.000000   \n25%      4080.000000       1.000000       2.000000          1.000000   \n50%     13625.000000       2.000000       8.000000          1.000000   \n75%     18547.000000       4.000000      15.000000          1.000000   \nmax     20626.000000    2021.000000     332.000000          1.000000   \nstd      7028.467430      94.241434      18.340409          0.201090   \n\n                            ts_start  view_durations_m  video_durations_m  \\\ncount                         126269     126269.000000      126269.000000   \nmean   2023-04-16 05:36:19.880540416      21738.401029       21578.081531   \nmin              2023-04-01 00:01:27          0.000000           0.000000   \n25%              2023-04-09 10:23:39          0.900000          45.400000   \n50%              2023-04-16 10:34:06         65.500000          94.700000   \n75%              2023-04-23 00:38:02      45056.000000       45067.000000   \nmax              2023-04-30 23:59:51      45199.000000       45199.000000   \nstd                              NaN      22506.795140       22493.505403   \n\n           kp_rating              registration_date  \\\ncount  126269.000000                         126269   \nmean     3710.487498  2021-04-22 17:46:05.198710528   \nmin         0.000000            1970-01-01 03:00:00   \n25%         6.489000            2020-03-17 09:20:20   \n50%         6.803000            2021-06-15 20:20:43   \n75%         7.937000            2022-10-15 09:46:30   \nmax     47331.000000            2023-04-29 16:50:19   \nstd     10216.199634                            NaN   \n\n             last_payed_sub_start_ts                    premiere_dt  \ncount                         126269                         126269  \nmean   2017-09-08 17:03:41.927258368  2021-09-23 05:00:13.656558848  \nmin              1970-01-01 03:00:00            1970-01-01 00:00:00  \n25%              2023-05-20 06:40:00            2020-05-27 00:00:00  \n50%              2023-09-22 21:46:14            2022-04-22 00:00:00  \n75%              2023-10-05 22:36:19            2023-03-17 00:00:00  \nmax              2023-10-19 23:15:26            2023-10-18 00:00:00  \nstd                              NaN                            NaN  ",
      "text/html": "<div>\n<style scoped>\n    .dataframe tbody tr th:only-of-type {\n        vertical-align: middle;\n    }\n\n    .dataframe tbody tr th {\n        vertical-align: top;\n    }\n\n    .dataframe thead th {\n        text-align: right;\n    }\n</style>\n<table border=\"1\" class=\"dataframe\">\n  <thead>\n    <tr style=\"text-align: right;\">\n      <th></th>\n      <th>tv_id</th>\n      <th>season_num</th>\n      <th>episode_num</th>\n      <th>subscription_flg</th>\n      <th>ts_start</th>\n      <th>view_durations_m</th>\n      <th>video_durations_m</th>\n      <th>kp_rating</th>\n      <th>registration_date</th>\n      <th>last_payed_sub_start_ts</th>\n      <th>premiere_dt</th>\n    </tr>\n  </thead>\n  <tbody>\n    <tr>\n      <th>count</th>\n      <td>126269.000000</td>\n      <td>126269.000000</td>\n      <td>126269.000000</td>\n      <td>126269.000000</td>\n      <td>126269</td>\n      <td>126269.000000</td>\n      <td>126269.000000</td>\n      <td>126269.000000</td>\n      <td>126269</td>\n      <td>126269</td>\n      <td>126269</td>\n    </tr>\n    <tr>\n      <th>mean</th>\n      <td>11532.195955</td>\n      <td>7.016370</td>\n      <td>12.096817</td>\n      <td>0.957781</td>\n      <td>2023-04-16 05:36:19.880540416</td>\n      <td>21738.401029</td>\n      <td>21578.081531</td>\n      <td>3710.487498</td>\n      <td>2021-04-22 17:46:05.198710528</td>\n      <td>2017-09-08 17:03:41.927258368</td>\n      <td>2021-09-23 05:00:13.656558848</td>\n    </tr>\n    <tr>\n      <th>min</th>\n      <td>7.000000</td>\n      <td>0.000000</td>\n      <td>0.000000</td>\n      <td>0.000000</td>\n      <td>2023-04-01 00:01:27</td>\n      <td>0.000000</td>\n      <td>0.000000</td>\n      <td>0.000000</td>\n      <td>1970-01-01 03:00:00</td>\n      <td>1970-01-01 03:00:00</td>\n      <td>1970-01-01 00:00:00</td>\n    </tr>\n    <tr>\n      <th>25%</th>\n      <td>4080.000000</td>\n      <td>1.000000</td>\n      <td>2.000000</td>\n      <td>1.000000</td>\n      <td>2023-04-09 10:23:39</td>\n      <td>0.900000</td>\n      <td>45.400000</td>\n      <td>6.489000</td>\n      <td>2020-03-17 09:20:20</td>\n      <td>2023-05-20 06:40:00</td>\n      <td>2020-05-27 00:00:00</td>\n    </tr>\n    <tr>\n      <th>50%</th>\n      <td>13625.000000</td>\n      <td>2.000000</td>\n      <td>8.000000</td>\n      <td>1.000000</td>\n      <td>2023-04-16 10:34:06</td>\n      <td>65.500000</td>\n      <td>94.700000</td>\n      <td>6.803000</td>\n      <td>2021-06-15 20:20:43</td>\n      <td>2023-09-22 21:46:14</td>\n      <td>2022-04-22 00:00:00</td>\n    </tr>\n    <tr>\n      <th>75%</th>\n      <td>18547.000000</td>\n      <td>4.000000</td>\n      <td>15.000000</td>\n      <td>1.000000</td>\n      <td>2023-04-23 00:38:02</td>\n      <td>45056.000000</td>\n      <td>45067.000000</td>\n      <td>7.937000</td>\n      <td>2022-10-15 09:46:30</td>\n      <td>2023-10-05 22:36:19</td>\n      <td>2023-03-17 00:00:00</td>\n    </tr>\n    <tr>\n      <th>max</th>\n      <td>20626.000000</td>\n      <td>2021.000000</td>\n      <td>332.000000</td>\n      <td>1.000000</td>\n      <td>2023-04-30 23:59:51</td>\n      <td>45199.000000</td>\n      <td>45199.000000</td>\n      <td>47331.000000</td>\n      <td>2023-04-29 16:50:19</td>\n      <td>2023-10-19 23:15:26</td>\n      <td>2023-10-18 00:00:00</td>\n    </tr>\n    <tr>\n      <th>std</th>\n      <td>7028.467430</td>\n      <td>94.241434</td>\n      <td>18.340409</td>\n      <td>0.201090</td>\n      <td>NaN</td>\n      <td>22506.795140</td>\n      <td>22493.505403</td>\n      <td>10216.199634</td>\n      <td>NaN</td>\n      <td>NaN</td>\n      <td>NaN</td>\n    </tr>\n  </tbody>\n</table>\n</div>"
     },
     "execution_count": 8,
     "metadata": {},
     "output_type": "execute_result"
    }
   ],
   "source": [
    "df.describe()"
   ],
   "metadata": {
    "collapsed": false
   }
  },
  {
   "cell_type": "code",
   "execution_count": 9,
   "outputs": [
    {
     "name": "stdout",
     "output_type": "stream",
     "text": [
      "<class 'pandas.core.frame.DataFrame'>\n",
      "RangeIndex: 126269 entries, 0 to 126268\n",
      "Data columns (total 20 columns):\n",
      " #   Column                   Non-Null Count   Dtype         \n",
      "---  ------                   --------------   -----         \n",
      " 0   passport_id              126269 non-null  object        \n",
      " 1   tv_id                    126269 non-null  int64         \n",
      " 2   title_ru                 126269 non-null  object        \n",
      " 3   season_num               126269 non-null  int64         \n",
      " 4   episode_num              126269 non-null  int64         \n",
      " 5   subscription_flg         126269 non-null  int64         \n",
      " 6   ts_start                 126269 non-null  datetime64[ns]\n",
      " 7   view_durations_m         126269 non-null  float64       \n",
      " 8   video_durations_m        126269 non-null  float64       \n",
      " 9   content_type             126269 non-null  object        \n",
      " 10  subscription_kind        120938 non-null  object        \n",
      " 11  view_type                126269 non-null  object        \n",
      " 12  uma_video_id             126269 non-null  object        \n",
      " 13  genre_names              116399 non-null  object        \n",
      " 14  genre_main               116282 non-null  object        \n",
      " 15  director                 92072 non-null   object        \n",
      " 16  kp_rating                126269 non-null  float64       \n",
      " 17  registration_date        126269 non-null  datetime64[ns]\n",
      " 18  last_payed_sub_start_ts  126269 non-null  datetime64[ns]\n",
      " 19  premiere_dt              126269 non-null  datetime64[ns]\n",
      "dtypes: datetime64[ns](4), float64(3), int64(4), object(9)\n",
      "memory usage: 19.3+ MB\n"
     ]
    }
   ],
   "source": [
    "df.info()"
   ],
   "metadata": {
    "collapsed": false
   }
  },
  {
   "cell_type": "code",
   "execution_count": null,
   "outputs": [],
   "source": [
    "# удалим дубли\n",
    "df.drop_duplicates(subset=['passport_id', 'tv_id', 'season_num', 'episode_num', 'ts_start'], keep='last', inplace=True)"
   ],
   "metadata": {
    "collapsed": false
   }
  },
  {
   "cell_type": "code",
   "execution_count": null,
   "outputs": [],
   "source": [
    "# Удаляем записи, где время просмотра меньше 1 минуты (очень часто они идут вместе с дублирующей записью)\n",
    "df.drop(df[df['view_durations_m'] < 1.0].index, inplace=True)"
   ],
   "metadata": {
    "collapsed": false
   }
  },
  {
   "cell_type": "code",
   "execution_count": null,
   "outputs": [],
   "source": [
    "# Удаляем записи по которым точно не было просмотра, чтобы не портили статистику\n",
    "# df = df.drop(df[(df['view_durations_m'] == 0) & (df['content_type'] != 'broadcast')].index)"
   ],
   "metadata": {
    "collapsed": false
   }
  },
  {
   "cell_type": "code",
   "execution_count": null,
   "outputs": [],
   "source": [
    "df.info()"
   ],
   "metadata": {
    "collapsed": false
   }
  },
  {
   "cell_type": "code",
   "execution_count": null,
   "outputs": [],
   "source": [
    "# Привести битые данные к нормальным\n",
    "df.view_durations_m = df.view_durations_m.apply(lambda x: x / 1000 if x > 1000 else x)\n",
    "df.video_durations_m = df.video_durations_m.apply(lambda x: x / 1000 if x > 1000 else x)\n",
    "df.kp_rating = df.kp_rating.apply(lambda x: x / 10000 if x > 1000 else x)"
   ],
   "metadata": {
    "collapsed": false
   }
  },
  {
   "cell_type": "code",
   "execution_count": null,
   "outputs": [],
   "source": [
    "# Убедимся, что данные отсортированы\n",
    "df.sort_values(['passport_id', 'ts_start'], inplace=True)"
   ],
   "metadata": {
    "collapsed": false
   }
  },
  {
   "cell_type": "code",
   "execution_count": null,
   "outputs": [],
   "source": [
    "# Посчитаем разницу по времени между близкими просмотрами\n",
    "df['time_diff'] = df.groupby(['passport_id', 'tv_id'])['ts_start'].diff()"
   ],
   "metadata": {
    "collapsed": false
   }
  },
  {
   "cell_type": "code",
   "execution_count": null,
   "outputs": [],
   "source": [
    "# Найдём строки, где разница больше, чем 2 часа или меняется группа просмотра\n",
    "gap_indices = (df['time_diff'] > timedelta(hours=2)) | (df['passport_id'] != df['passport_id'].shift()) | (df['tv_id'] != df['tv_id'].shift())"
   ],
   "metadata": {
    "collapsed": false
   }
  },
  {
   "cell_type": "code",
   "execution_count": null,
   "outputs": [],
   "source": [
    "# Создадим новую колонку с номером просмотра\n",
    "df['view_number'] = (gap_indices.cumsum() + 1).where(~gap_indices, 1)"
   ],
   "metadata": {
    "collapsed": false
   }
  },
  {
   "cell_type": "code",
   "execution_count": null,
   "outputs": [],
   "source": [
    "# Была ли вообще подписка когда-нибудь\n",
    "df['ever_subscribed'] = (df['last_payed_sub_start_ts'].dt.date != pd.to_datetime('1970-01-01').date())"
   ],
   "metadata": {
    "collapsed": false
   }
  },
  {
   "cell_type": "code",
   "execution_count": null,
   "outputs": [],
   "source": [
    "df[df.ever_subscribed == False]"
   ],
   "metadata": {
    "collapsed": false
   }
  },
  {
   "cell_type": "code",
   "execution_count": null,
   "outputs": [],
   "source": [
    "def calculate_ratio(row):\n",
    "    if row['content_type'] != 'broadcast':\n",
    "        try:\n",
    "            return int(row['view_durations_m']) / int(row['video_durations_m'])\n",
    "        except ZeroDivisionError:\n",
    "            return None\n",
    "    else:\n",
    "        return None"
   ],
   "metadata": {
    "collapsed": false
   }
  },
  {
   "cell_type": "code",
   "execution_count": null,
   "outputs": [],
   "source": [
    "# Посчитаем долю просмотра тайтла\n",
    "df['view_duration_ratio'] = df.apply(calculate_ratio, axis=1)"
   ],
   "metadata": {
    "collapsed": false
   }
  },
  {
   "cell_type": "code",
   "execution_count": null,
   "outputs": [],
   "source": [
    "rows_with_nan = df[df.isna().any(axis=1)]"
   ],
   "metadata": {
    "collapsed": false
   }
  },
  {
   "cell_type": "code",
   "execution_count": null,
   "outputs": [],
   "source": [
    "rows_with_nan[(rows_with_nan['video_durations_m'] < 1.0) & (rows_with_nan.content_type != 'broadcast')]"
   ],
   "metadata": {
    "collapsed": false
   }
  },
  {
   "cell_type": "code",
   "execution_count": null,
   "outputs": [],
   "source": [
    "df.view_duration_ratio.value_counts()"
   ],
   "metadata": {
    "collapsed": false
   }
  },
  {
   "cell_type": "code",
   "execution_count": null,
   "outputs": [],
   "source": [
    "def check_value(value):\n",
    "    if pd.notnull(value):\n",
    "        return value > 0.8\n",
    "    else:\n",
    "        return None"
   ],
   "metadata": {
    "collapsed": false
   }
  },
  {
   "cell_type": "code",
   "execution_count": null,
   "outputs": [],
   "source": [
    "df['is_viewed_to_end'] = df.view_duration_ratio.apply(check_value)"
   ],
   "metadata": {
    "collapsed": false
   }
  },
  {
   "cell_type": "code",
   "execution_count": null,
   "outputs": [],
   "source": [
    "# Добавим лейбл по дню\n",
    "b = [0,4,8,12,16,20,24]\n",
    "l = ['Late Night', 'Early Morning','Morning','Noon','Eve','Night']\n",
    "df['part_of_day'] = pd.cut(df['ts_start'].dt.hour, bins=b, labels=l, include_lowest=True)"
   ],
   "metadata": {
    "collapsed": false
   }
  },
  {
   "cell_type": "code",
   "execution_count": null,
   "outputs": [],
   "source": [
    "df['part_of_day'].value_counts()\n",
    "# Больше всего смотрят вечером/ночью/"
   ],
   "metadata": {
    "collapsed": false
   }
  },
  {
   "cell_type": "code",
   "execution_count": null,
   "outputs": [],
   "source": [
    "def get_ts_start_premier_diff(row):\n",
    "    return (row['ts_start'] - row['premiere_dt']).days\n",
    "\n",
    "def get_registration_sub_diff(row):\n",
    "    if row['ever_subscribed'] is False:\n",
    "        return None\n",
    "    return (row['last_payed_sub_start_ts'] - row['registration_date']).days"
   ],
   "metadata": {
    "collapsed": false
   }
  },
  {
   "cell_type": "code",
   "execution_count": null,
   "outputs": [],
   "source": [
    "# Посчитаем дни между оплатой подписки и премьерой/регистрацией\n",
    "df['diff_days_between_premier'] = df.apply(get_ts_start_premier_diff, axis=1)\n",
    "df['diff_days_between_payed_and_registration'] = df.apply(get_registration_sub_diff, axis=1)"
   ],
   "metadata": {
    "collapsed": false
   }
  },
  {
   "cell_type": "code",
   "execution_count": null,
   "outputs": [],
   "source": [
    "df.diff_days_between_premier.value_counts()"
   ],
   "metadata": {
    "collapsed": false
   }
  },
  {
   "cell_type": "code",
   "execution_count": null,
   "outputs": [],
   "source": [
    "# Так как есть серии, которые \"досматривали\" нужно посчитать общее время просмотра\n",
    "df['sum_by_user_and_series'] = df.groupby(['passport_id', 'title_ru', 'season_num', 'episode_num'])['view_durations_m'].transform('sum')"
   ],
   "metadata": {
    "collapsed": false
   }
  },
  {
   "cell_type": "code",
   "execution_count": null,
   "outputs": [],
   "source": [
    "df[df.passport_id == 'F8E3dQSDMaQtHbzUBxj2YU'].sort_values('ts_start')"
   ],
   "metadata": {
    "collapsed": false
   }
  },
  {
   "cell_type": "code",
   "execution_count": null,
   "outputs": [],
   "source": [
    "# Добавим новое поле для сезона и эпизода\n",
    "df['season_episode'] = 's' + df['season_num'].astype(str) + 'e' + df['episode_num'].astype(str)"
   ],
   "metadata": {
    "collapsed": false
   }
  },
  {
   "cell_type": "code",
   "execution_count": null,
   "outputs": [],
   "source": [
    "df.to_csv('views.csv')"
   ],
   "metadata": {
    "collapsed": false
   }
  },
  {
   "cell_type": "code",
   "execution_count": null,
   "outputs": [],
   "source": [
    "df"
   ],
   "metadata": {
    "collapsed": false
   }
  },
  {
   "cell_type": "code",
   "execution_count": null,
   "outputs": [],
   "source": [
    "engine = create_engine(os.environ.get('CONN_STRING', None))\n",
    "df.to_sql(name='views', con=engine, schema='gpm', if_exists='replace', index=False)"
   ],
   "metadata": {
    "collapsed": false
   }
  },
  {
   "cell_type": "code",
   "execution_count": null,
   "outputs": [],
   "source": [],
   "metadata": {
    "collapsed": false
   }
  }
 ],
 "metadata": {
  "kernelspec": {
   "display_name": "Python 3",
   "language": "python",
   "name": "python3"
  },
  "language_info": {
   "codemirror_mode": {
    "name": "ipython",
    "version": 2
   },
   "file_extension": ".py",
   "mimetype": "text/x-python",
   "name": "python",
   "nbconvert_exporter": "python",
   "pygments_lexer": "ipython2",
   "version": "2.7.6"
  }
 },
 "nbformat": 4,
 "nbformat_minor": 0
}
